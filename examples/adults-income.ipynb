{
 "cells": [
  {
   "cell_type": "markdown",
   "metadata": {},
   "source": [
    "# Augmented Distillation - Binary Classification\n",
    "In this example, we will use the [Adult Census Income](https://www.kaggle.com/uciml/adult-census-income). \n",
    "based on the paper"
   ]
  },
  {
   "cell_type": "markdown",
   "metadata": {},
   "source": [
    "## Setup"
   ]
  },
  {
   "cell_type": "code",
   "execution_count": 57,
   "metadata": {
    "executionInfo": {
     "elapsed": 680,
     "status": "ok",
     "timestamp": 1627202543782,
     "user": {
      "displayName": "Orr Avrech",
      "photoUrl": "",
      "userId": "08602400392920330638"
     },
     "user_tz": -180
    },
    "id": "I5-jBe2bh-Ug"
   },
   "outputs": [],
   "source": [
    "import sys\n",
    "from pathlib import Path\n",
    "import numpy as np\n",
    "import pandas as pd\n",
    "import matplotlib.pyplot as plt\n",
    "sys.path.append('../.')\n",
    "sys.path.append('../conformal_pred')"
   ]
  },
  {
   "cell_type": "markdown",
   "metadata": {
    "id": "8uZBxFOEivTg"
   },
   "source": [
    "## EDA"
   ]
  },
  {
   "cell_type": "code",
   "execution_count": 58,
   "metadata": {
    "colab": {
     "base_uri": "https://localhost:8080/",
     "height": 204
    },
    "executionInfo": {
     "elapsed": 902,
     "status": "ok",
     "timestamp": 1627197718603,
     "user": {
      "displayName": "Orr Avrech",
      "photoUrl": "",
      "userId": "08602400392920330638"
     },
     "user_tz": -180
    },
    "id": "sHXz2EsuifyO",
    "outputId": "5c78e2bf-2b1f-48bd-8157-b4389c0de09c"
   },
   "outputs": [
    {
     "data": {
      "text/html": [
       "<div>\n",
       "<style scoped>\n",
       "    .dataframe tbody tr th:only-of-type {\n",
       "        vertical-align: middle;\n",
       "    }\n",
       "\n",
       "    .dataframe tbody tr th {\n",
       "        vertical-align: top;\n",
       "    }\n",
       "\n",
       "    .dataframe thead th {\n",
       "        text-align: right;\n",
       "    }\n",
       "</style>\n",
       "<table border=\"1\" class=\"dataframe\">\n",
       "  <thead>\n",
       "    <tr style=\"text-align: right;\">\n",
       "      <th></th>\n",
       "      <th>age</th>\n",
       "      <th>workclass</th>\n",
       "      <th>fnlwgt</th>\n",
       "      <th>education</th>\n",
       "      <th>education.num</th>\n",
       "      <th>marital.status</th>\n",
       "      <th>occupation</th>\n",
       "      <th>relationship</th>\n",
       "      <th>race</th>\n",
       "      <th>sex</th>\n",
       "      <th>capital.gain</th>\n",
       "      <th>capital.loss</th>\n",
       "      <th>hours.per.week</th>\n",
       "      <th>native.country</th>\n",
       "      <th>income</th>\n",
       "    </tr>\n",
       "  </thead>\n",
       "  <tbody>\n",
       "    <tr>\n",
       "      <th>0</th>\n",
       "      <td>90</td>\n",
       "      <td>?</td>\n",
       "      <td>77053</td>\n",
       "      <td>HS-grad</td>\n",
       "      <td>9</td>\n",
       "      <td>Widowed</td>\n",
       "      <td>?</td>\n",
       "      <td>Not-in-family</td>\n",
       "      <td>White</td>\n",
       "      <td>Female</td>\n",
       "      <td>0</td>\n",
       "      <td>4356</td>\n",
       "      <td>40</td>\n",
       "      <td>United-States</td>\n",
       "      <td>&lt;=50K</td>\n",
       "    </tr>\n",
       "    <tr>\n",
       "      <th>1</th>\n",
       "      <td>82</td>\n",
       "      <td>Private</td>\n",
       "      <td>132870</td>\n",
       "      <td>HS-grad</td>\n",
       "      <td>9</td>\n",
       "      <td>Widowed</td>\n",
       "      <td>Exec-managerial</td>\n",
       "      <td>Not-in-family</td>\n",
       "      <td>White</td>\n",
       "      <td>Female</td>\n",
       "      <td>0</td>\n",
       "      <td>4356</td>\n",
       "      <td>18</td>\n",
       "      <td>United-States</td>\n",
       "      <td>&lt;=50K</td>\n",
       "    </tr>\n",
       "    <tr>\n",
       "      <th>2</th>\n",
       "      <td>66</td>\n",
       "      <td>?</td>\n",
       "      <td>186061</td>\n",
       "      <td>Some-college</td>\n",
       "      <td>10</td>\n",
       "      <td>Widowed</td>\n",
       "      <td>?</td>\n",
       "      <td>Unmarried</td>\n",
       "      <td>Black</td>\n",
       "      <td>Female</td>\n",
       "      <td>0</td>\n",
       "      <td>4356</td>\n",
       "      <td>40</td>\n",
       "      <td>United-States</td>\n",
       "      <td>&lt;=50K</td>\n",
       "    </tr>\n",
       "    <tr>\n",
       "      <th>3</th>\n",
       "      <td>54</td>\n",
       "      <td>Private</td>\n",
       "      <td>140359</td>\n",
       "      <td>7th-8th</td>\n",
       "      <td>4</td>\n",
       "      <td>Divorced</td>\n",
       "      <td>Machine-op-inspct</td>\n",
       "      <td>Unmarried</td>\n",
       "      <td>White</td>\n",
       "      <td>Female</td>\n",
       "      <td>0</td>\n",
       "      <td>3900</td>\n",
       "      <td>40</td>\n",
       "      <td>United-States</td>\n",
       "      <td>&lt;=50K</td>\n",
       "    </tr>\n",
       "    <tr>\n",
       "      <th>4</th>\n",
       "      <td>41</td>\n",
       "      <td>Private</td>\n",
       "      <td>264663</td>\n",
       "      <td>Some-college</td>\n",
       "      <td>10</td>\n",
       "      <td>Separated</td>\n",
       "      <td>Prof-specialty</td>\n",
       "      <td>Own-child</td>\n",
       "      <td>White</td>\n",
       "      <td>Female</td>\n",
       "      <td>0</td>\n",
       "      <td>3900</td>\n",
       "      <td>40</td>\n",
       "      <td>United-States</td>\n",
       "      <td>&lt;=50K</td>\n",
       "    </tr>\n",
       "  </tbody>\n",
       "</table>\n",
       "</div>"
      ],
      "text/plain": [
       "   age workclass  fnlwgt     education  education.num marital.status  \\\n",
       "0   90         ?   77053       HS-grad              9        Widowed   \n",
       "1   82   Private  132870       HS-grad              9        Widowed   \n",
       "2   66         ?  186061  Some-college             10        Widowed   \n",
       "3   54   Private  140359       7th-8th              4       Divorced   \n",
       "4   41   Private  264663  Some-college             10      Separated   \n",
       "\n",
       "          occupation   relationship   race     sex  capital.gain  \\\n",
       "0                  ?  Not-in-family  White  Female             0   \n",
       "1    Exec-managerial  Not-in-family  White  Female             0   \n",
       "2                  ?      Unmarried  Black  Female             0   \n",
       "3  Machine-op-inspct      Unmarried  White  Female             0   \n",
       "4     Prof-specialty      Own-child  White  Female             0   \n",
       "\n",
       "   capital.loss  hours.per.week native.country income  \n",
       "0          4356              40  United-States  <=50K  \n",
       "1          4356              18  United-States  <=50K  \n",
       "2          4356              40  United-States  <=50K  \n",
       "3          3900              40  United-States  <=50K  \n",
       "4          3900              40  United-States  <=50K  "
      ]
     },
     "execution_count": 58,
     "metadata": {},
     "output_type": "execute_result"
    }
   ],
   "source": [
    "csv_path = Path(r\"C:\\Users\\orrav\\Documents\\Datasets\\Adult Census Income\\adult.csv\")\n",
    "\n",
    "df = pd.read_csv(csv_path)\n",
    "df.head()"
   ]
  },
  {
   "cell_type": "code",
   "execution_count": 59,
   "metadata": {
    "colab": {
     "base_uri": "https://localhost:8080/"
    },
    "executionInfo": {
     "elapsed": 268,
     "status": "ok",
     "timestamp": 1627197760101,
     "user": {
      "displayName": "Orr Avrech",
      "photoUrl": "",
      "userId": "08602400392920330638"
     },
     "user_tz": -180
    },
    "id": "bXnywkTLitJF",
    "outputId": "e704e9b8-3ce7-49b0-bd88-d2e84c834a7f"
   },
   "outputs": [
    {
     "name": "stdout",
     "output_type": "stream",
     "text": [
      "<class 'pandas.core.frame.DataFrame'>\n",
      "RangeIndex: 32561 entries, 0 to 32560\n",
      "Data columns (total 15 columns):\n",
      " #   Column          Non-Null Count  Dtype \n",
      "---  ------          --------------  ----- \n",
      " 0   age             32561 non-null  int64 \n",
      " 1   workclass       32561 non-null  object\n",
      " 2   fnlwgt          32561 non-null  int64 \n",
      " 3   education       32561 non-null  object\n",
      " 4   education.num   32561 non-null  int64 \n",
      " 5   marital.status  32561 non-null  object\n",
      " 6   occupation      32561 non-null  object\n",
      " 7   relationship    32561 non-null  object\n",
      " 8   race            32561 non-null  object\n",
      " 9   sex             32561 non-null  object\n",
      " 10  capital.gain    32561 non-null  int64 \n",
      " 11  capital.loss    32561 non-null  int64 \n",
      " 12  hours.per.week  32561 non-null  int64 \n",
      " 13  native.country  32561 non-null  object\n",
      " 14  income          32561 non-null  object\n",
      "dtypes: int64(6), object(9)\n",
      "memory usage: 3.7+ MB\n"
     ]
    }
   ],
   "source": [
    "df.info()"
   ]
  },
  {
   "cell_type": "markdown",
   "metadata": {
    "id": "Tn7h9q35i8Fo"
   },
   "source": [
    "### Set ? to NaNs"
   ]
  },
  {
   "cell_type": "code",
   "execution_count": 60,
   "metadata": {
    "executionInfo": {
     "elapsed": 283,
     "status": "ok",
     "timestamp": 1627197875260,
     "user": {
      "displayName": "Orr Avrech",
      "photoUrl": "",
      "userId": "08602400392920330638"
     },
     "user_tz": -180
    },
    "id": "uuX7wEtqi2WD"
   },
   "outputs": [],
   "source": [
    "df[df == '?'] = np.nan"
   ]
  },
  {
   "cell_type": "code",
   "execution_count": 61,
   "metadata": {
    "colab": {
     "base_uri": "https://localhost:8080/"
    },
    "executionInfo": {
     "elapsed": 15,
     "status": "ok",
     "timestamp": 1627197911380,
     "user": {
      "displayName": "Orr Avrech",
      "photoUrl": "",
      "userId": "08602400392920330638"
     },
     "user_tz": -180
    },
    "id": "1rE6ellKjSjQ",
    "outputId": "bf8302c8-cebb-4720-dcd4-ccb5f6ca088b"
   },
   "outputs": [
    {
     "name": "stdout",
     "output_type": "stream",
     "text": [
      "<class 'pandas.core.frame.DataFrame'>\n",
      "RangeIndex: 32561 entries, 0 to 32560\n",
      "Data columns (total 15 columns):\n",
      " #   Column          Non-Null Count  Dtype \n",
      "---  ------          --------------  ----- \n",
      " 0   age             32561 non-null  int64 \n",
      " 1   workclass       30725 non-null  object\n",
      " 2   fnlwgt          32561 non-null  int64 \n",
      " 3   education       32561 non-null  object\n",
      " 4   education.num   32561 non-null  int64 \n",
      " 5   marital.status  32561 non-null  object\n",
      " 6   occupation      30718 non-null  object\n",
      " 7   relationship    32561 non-null  object\n",
      " 8   race            32561 non-null  object\n",
      " 9   sex             32561 non-null  object\n",
      " 10  capital.gain    32561 non-null  int64 \n",
      " 11  capital.loss    32561 non-null  int64 \n",
      " 12  hours.per.week  32561 non-null  int64 \n",
      " 13  native.country  31978 non-null  object\n",
      " 14  income          32561 non-null  object\n",
      "dtypes: int64(6), object(9)\n",
      "memory usage: 3.7+ MB\n"
     ]
    }
   ],
   "source": [
    "df.info()"
   ]
  },
  {
   "cell_type": "markdown",
   "metadata": {
    "id": "eGR3suExlSoQ"
   },
   "source": [
    "### Fill-out missing values\n",
    "We can see that `workclass`, `occupation` and `native.country` have missing values. These features are categorical and we can therefore fill them out with `mode`.\n",
    "\n"
   ]
  },
  {
   "cell_type": "code",
   "execution_count": 62,
   "metadata": {
    "executionInfo": {
     "elapsed": 294,
     "status": "ok",
     "timestamp": 1627198523112,
     "user": {
      "displayName": "Orr Avrech",
      "photoUrl": "",
      "userId": "08602400392920330638"
     },
     "user_tz": -180
    },
    "id": "fmHuUi2ylXM_"
   },
   "outputs": [],
   "source": [
    "for col in ['workclass', 'occupation', 'native.country']:\n",
    "    df[col].fillna(df[col].mode()[0], inplace=True)"
   ]
  },
  {
   "cell_type": "code",
   "execution_count": 63,
   "metadata": {
    "colab": {
     "base_uri": "https://localhost:8080/"
    },
    "executionInfo": {
     "elapsed": 319,
     "status": "ok",
     "timestamp": 1627198545285,
     "user": {
      "displayName": "Orr Avrech",
      "photoUrl": "",
      "userId": "08602400392920330638"
     },
     "user_tz": -180
    },
    "id": "i8FxGAHll0PH",
    "outputId": "3544b0a4-06bb-48b4-d0a1-1d7e8314400c"
   },
   "outputs": [
    {
     "name": "stdout",
     "output_type": "stream",
     "text": [
      "<class 'pandas.core.frame.DataFrame'>\n",
      "RangeIndex: 32561 entries, 0 to 32560\n",
      "Data columns (total 15 columns):\n",
      " #   Column          Non-Null Count  Dtype \n",
      "---  ------          --------------  ----- \n",
      " 0   age             32561 non-null  int64 \n",
      " 1   workclass       32561 non-null  object\n",
      " 2   fnlwgt          32561 non-null  int64 \n",
      " 3   education       32561 non-null  object\n",
      " 4   education.num   32561 non-null  int64 \n",
      " 5   marital.status  32561 non-null  object\n",
      " 6   occupation      32561 non-null  object\n",
      " 7   relationship    32561 non-null  object\n",
      " 8   race            32561 non-null  object\n",
      " 9   sex             32561 non-null  object\n",
      " 10  capital.gain    32561 non-null  int64 \n",
      " 11  capital.loss    32561 non-null  int64 \n",
      " 12  hours.per.week  32561 non-null  int64 \n",
      " 13  native.country  32561 non-null  object\n",
      " 14  income          32561 non-null  object\n",
      "dtypes: int64(6), object(9)\n",
      "memory usage: 3.7+ MB\n"
     ]
    }
   ],
   "source": [
    "df.info()"
   ]
  },
  {
   "cell_type": "code",
   "execution_count": 64,
   "metadata": {
    "colab": {
     "base_uri": "https://localhost:8080/"
    },
    "executionInfo": {
     "elapsed": 11,
     "status": "ok",
     "timestamp": 1627198556472,
     "user": {
      "displayName": "Orr Avrech",
      "photoUrl": "",
      "userId": "08602400392920330638"
     },
     "user_tz": -180
    },
    "id": "E9qLRbFGl1wY",
    "outputId": "cf6c418f-15b1-4959-8ae0-f56d6ea78bc8"
   },
   "outputs": [
    {
     "data": {
      "text/plain": [
       "age               0\n",
       "workclass         0\n",
       "fnlwgt            0\n",
       "education         0\n",
       "education.num     0\n",
       "marital.status    0\n",
       "occupation        0\n",
       "relationship      0\n",
       "race              0\n",
       "sex               0\n",
       "capital.gain      0\n",
       "capital.loss      0\n",
       "hours.per.week    0\n",
       "native.country    0\n",
       "income            0\n",
       "dtype: int64"
      ]
     },
     "execution_count": 64,
     "metadata": {},
     "output_type": "execute_result"
    }
   ],
   "source": [
    "df.isnull().sum()"
   ]
  },
  {
   "cell_type": "markdown",
   "metadata": {
    "id": "dGmSE6Vu-hpZ"
   },
   "source": [
    "### Setting features and target variables"
   ]
  },
  {
   "cell_type": "code",
   "execution_count": 65,
   "metadata": {
    "executionInfo": {
     "elapsed": 539,
     "status": "ok",
     "timestamp": 1627207385650,
     "user": {
      "displayName": "Orr Avrech",
      "photoUrl": "",
      "userId": "08602400392920330638"
     },
     "user_tz": -180
    },
    "id": "Jmx5__NE-lIo"
   },
   "outputs": [],
   "source": [
    "X = df.drop(['income'], axis=1)\n",
    "\n",
    "y = df['income'].map({'<=50K': 0, '>50K': 1})"
   ]
  },
  {
   "cell_type": "markdown",
   "metadata": {
    "id": "QPTXDQEW-pSi"
   },
   "source": [
    "### Test splitting"
   ]
  },
  {
   "cell_type": "code",
   "execution_count": 66,
   "metadata": {
    "executionInfo": {
     "elapsed": 538,
     "status": "ok",
     "timestamp": 1627207388438,
     "user": {
      "displayName": "Orr Avrech",
      "photoUrl": "",
      "userId": "08602400392920330638"
     },
     "user_tz": -180
    },
    "id": "d0bj4nwM-nhG"
   },
   "outputs": [],
   "source": [
    "from sklearn.model_selection import train_test_split\n",
    "\n",
    "X_train, X_test, y_train, y_test = train_test_split(X, y, test_size=0.5, random_state=0)"
   ]
  },
  {
   "cell_type": "code",
   "execution_count": 67,
   "metadata": {
    "executionInfo": {
     "elapsed": 552,
     "status": "ok",
     "timestamp": 1627207400013,
     "user": {
      "displayName": "Orr Avrech",
      "photoUrl": "",
      "userId": "08602400392920330638"
     },
     "user_tz": -180
    },
    "id": "0D2VJC2KEUDg"
   },
   "outputs": [],
   "source": [
    "pX_train, pX_test = X_train.copy(), X_test.copy()"
   ]
  },
  {
   "cell_type": "markdown",
   "metadata": {
    "id": "F47FAN0H-4kS"
   },
   "source": [
    "### Feature engineering"
   ]
  },
  {
   "cell_type": "markdown",
   "metadata": {},
   "source": [
    "We'll be using `LabelEncoder` to encode categorical text features into integers. We also a standard normalization of the tabular features in the form of centering and std scaling."
   ]
  },
  {
   "cell_type": "code",
   "execution_count": 68,
   "metadata": {
    "executionInfo": {
     "elapsed": 540,
     "status": "ok",
     "timestamp": 1627207402436,
     "user": {
      "displayName": "Orr Avrech",
      "photoUrl": "",
      "userId": "08602400392920330638"
     },
     "user_tz": -180
    },
    "id": "rXOx0Gxx_SfU"
   },
   "outputs": [],
   "source": [
    "from sklearn import preprocessing\n",
    "\n",
    "categorical = X.select_dtypes(include=[\"object\"]).columns\n",
    "label_encoders = []\n",
    "for feature in categorical:\n",
    "        label_enc = preprocessing.LabelEncoder()\n",
    "        pX_train.loc[:, feature] = label_enc.fit_transform(X_train[feature])\n",
    "        pX_test.loc[:, feature] = label_enc.transform(X_test[feature])\n",
    "        label_encoders.append(label_enc)"
   ]
  },
  {
   "cell_type": "code",
   "execution_count": 69,
   "metadata": {},
   "outputs": [
    {
     "data": {
      "text/html": [
       "<div>\n",
       "<style scoped>\n",
       "    .dataframe tbody tr th:only-of-type {\n",
       "        vertical-align: middle;\n",
       "    }\n",
       "\n",
       "    .dataframe tbody tr th {\n",
       "        vertical-align: top;\n",
       "    }\n",
       "\n",
       "    .dataframe thead th {\n",
       "        text-align: right;\n",
       "    }\n",
       "</style>\n",
       "<table border=\"1\" class=\"dataframe\">\n",
       "  <thead>\n",
       "    <tr style=\"text-align: right;\">\n",
       "      <th></th>\n",
       "      <th>age</th>\n",
       "      <th>workclass</th>\n",
       "      <th>fnlwgt</th>\n",
       "      <th>education</th>\n",
       "      <th>education.num</th>\n",
       "      <th>marital.status</th>\n",
       "      <th>occupation</th>\n",
       "      <th>relationship</th>\n",
       "      <th>race</th>\n",
       "      <th>sex</th>\n",
       "      <th>capital.gain</th>\n",
       "      <th>capital.loss</th>\n",
       "      <th>hours.per.week</th>\n",
       "      <th>native.country</th>\n",
       "    </tr>\n",
       "  </thead>\n",
       "  <tbody>\n",
       "    <tr>\n",
       "      <th>7872</th>\n",
       "      <td>64</td>\n",
       "      <td>3</td>\n",
       "      <td>321166</td>\n",
       "      <td>9</td>\n",
       "      <td>13</td>\n",
       "      <td>0</td>\n",
       "      <td>11</td>\n",
       "      <td>1</td>\n",
       "      <td>4</td>\n",
       "      <td>0</td>\n",
       "      <td>0</td>\n",
       "      <td>0</td>\n",
       "      <td>5</td>\n",
       "      <td>38</td>\n",
       "    </tr>\n",
       "    <tr>\n",
       "      <th>31180</th>\n",
       "      <td>31</td>\n",
       "      <td>1</td>\n",
       "      <td>94991</td>\n",
       "      <td>11</td>\n",
       "      <td>9</td>\n",
       "      <td>0</td>\n",
       "      <td>7</td>\n",
       "      <td>4</td>\n",
       "      <td>0</td>\n",
       "      <td>1</td>\n",
       "      <td>0</td>\n",
       "      <td>0</td>\n",
       "      <td>40</td>\n",
       "      <td>38</td>\n",
       "    </tr>\n",
       "    <tr>\n",
       "      <th>25875</th>\n",
       "      <td>25</td>\n",
       "      <td>3</td>\n",
       "      <td>44363</td>\n",
       "      <td>11</td>\n",
       "      <td>9</td>\n",
       "      <td>4</td>\n",
       "      <td>5</td>\n",
       "      <td>1</td>\n",
       "      <td>4</td>\n",
       "      <td>1</td>\n",
       "      <td>0</td>\n",
       "      <td>0</td>\n",
       "      <td>35</td>\n",
       "      <td>38</td>\n",
       "    </tr>\n",
       "    <tr>\n",
       "      <th>4345</th>\n",
       "      <td>37</td>\n",
       "      <td>3</td>\n",
       "      <td>254202</td>\n",
       "      <td>9</td>\n",
       "      <td>13</td>\n",
       "      <td>2</td>\n",
       "      <td>11</td>\n",
       "      <td>0</td>\n",
       "      <td>4</td>\n",
       "      <td>1</td>\n",
       "      <td>0</td>\n",
       "      <td>0</td>\n",
       "      <td>50</td>\n",
       "      <td>38</td>\n",
       "    </tr>\n",
       "    <tr>\n",
       "      <th>15278</th>\n",
       "      <td>63</td>\n",
       "      <td>3</td>\n",
       "      <td>237620</td>\n",
       "      <td>11</td>\n",
       "      <td>9</td>\n",
       "      <td>2</td>\n",
       "      <td>2</td>\n",
       "      <td>0</td>\n",
       "      <td>4</td>\n",
       "      <td>1</td>\n",
       "      <td>0</td>\n",
       "      <td>0</td>\n",
       "      <td>30</td>\n",
       "      <td>38</td>\n",
       "    </tr>\n",
       "  </tbody>\n",
       "</table>\n",
       "</div>"
      ],
      "text/plain": [
       "       age  workclass  fnlwgt  education  education.num  marital.status  \\\n",
       "7872    64          3  321166          9             13               0   \n",
       "31180   31          1   94991         11              9               0   \n",
       "25875   25          3   44363         11              9               4   \n",
       "4345    37          3  254202          9             13               2   \n",
       "15278   63          3  237620         11              9               2   \n",
       "\n",
       "       occupation  relationship  race  sex  capital.gain  capital.loss  \\\n",
       "7872           11             1     4    0             0             0   \n",
       "31180           7             4     0    1             0             0   \n",
       "25875           5             1     4    1             0             0   \n",
       "4345           11             0     4    1             0             0   \n",
       "15278           2             0     4    1             0             0   \n",
       "\n",
       "       hours.per.week  native.country  \n",
       "7872                5              38  \n",
       "31180              40              38  \n",
       "25875              35              38  \n",
       "4345               50              38  \n",
       "15278              30              38  "
      ]
     },
     "execution_count": 69,
     "metadata": {},
     "output_type": "execute_result"
    }
   ],
   "source": [
    "pX_train.head()"
   ]
  },
  {
   "cell_type": "code",
   "execution_count": 70,
   "metadata": {
    "executionInfo": {
     "elapsed": 542,
     "status": "ok",
     "timestamp": 1627207405222,
     "user": {
      "displayName": "Orr Avrech",
      "photoUrl": "",
      "userId": "08602400392920330638"
     },
     "user_tz": -180
    },
    "id": "mZIMYwhYDKiE"
   },
   "outputs": [],
   "source": [
    "from sklearn.preprocessing import StandardScaler\n",
    "\n",
    "scaler = StandardScaler()\n",
    "pX_train = pd.DataFrame(scaler.fit_transform(pX_train), columns=X.columns)\n",
    "pX_test = pd.DataFrame(scaler.transform(pX_test), columns=X.columns)"
   ]
  },
  {
   "cell_type": "code",
   "execution_count": 71,
   "metadata": {
    "id": "9zOYwrjSDQN6"
   },
   "outputs": [
    {
     "data": {
      "text/html": [
       "<div>\n",
       "<style scoped>\n",
       "    .dataframe tbody tr th:only-of-type {\n",
       "        vertical-align: middle;\n",
       "    }\n",
       "\n",
       "    .dataframe tbody tr th {\n",
       "        vertical-align: top;\n",
       "    }\n",
       "\n",
       "    .dataframe thead th {\n",
       "        text-align: right;\n",
       "    }\n",
       "</style>\n",
       "<table border=\"1\" class=\"dataframe\">\n",
       "  <thead>\n",
       "    <tr style=\"text-align: right;\">\n",
       "      <th></th>\n",
       "      <th>age</th>\n",
       "      <th>workclass</th>\n",
       "      <th>fnlwgt</th>\n",
       "      <th>education</th>\n",
       "      <th>education.num</th>\n",
       "      <th>marital.status</th>\n",
       "      <th>occupation</th>\n",
       "      <th>relationship</th>\n",
       "      <th>race</th>\n",
       "      <th>sex</th>\n",
       "      <th>capital.gain</th>\n",
       "      <th>capital.loss</th>\n",
       "      <th>hours.per.week</th>\n",
       "      <th>native.country</th>\n",
       "    </tr>\n",
       "  </thead>\n",
       "  <tbody>\n",
       "    <tr>\n",
       "      <th>0</th>\n",
       "      <td>1.850713</td>\n",
       "      <td>-0.088376</td>\n",
       "      <td>1.246786</td>\n",
       "      <td>-0.332697</td>\n",
       "      <td>1.135385</td>\n",
       "      <td>-1.742386</td>\n",
       "      <td>1.236648</td>\n",
       "      <td>-0.276827</td>\n",
       "      <td>0.393160</td>\n",
       "      <td>-1.434521</td>\n",
       "      <td>-0.14426</td>\n",
       "      <td>-0.217063</td>\n",
       "      <td>-2.885649</td>\n",
       "      <td>0.260859</td>\n",
       "    </tr>\n",
       "    <tr>\n",
       "      <th>1</th>\n",
       "      <td>-0.560269</td>\n",
       "      <td>-1.889076</td>\n",
       "      <td>-0.891714</td>\n",
       "      <td>0.185015</td>\n",
       "      <td>-0.421692</td>\n",
       "      <td>-1.742386</td>\n",
       "      <td>0.230318</td>\n",
       "      <td>1.590090</td>\n",
       "      <td>-4.327948</td>\n",
       "      <td>0.697097</td>\n",
       "      <td>-0.14426</td>\n",
       "      <td>-0.217063</td>\n",
       "      <td>-0.042075</td>\n",
       "      <td>0.260859</td>\n",
       "    </tr>\n",
       "    <tr>\n",
       "      <th>2</th>\n",
       "      <td>-0.998630</td>\n",
       "      <td>-0.088376</td>\n",
       "      <td>-1.370405</td>\n",
       "      <td>0.185015</td>\n",
       "      <td>-0.421692</td>\n",
       "      <td>0.921843</td>\n",
       "      <td>-0.272846</td>\n",
       "      <td>-0.276827</td>\n",
       "      <td>0.393160</td>\n",
       "      <td>0.697097</td>\n",
       "      <td>-0.14426</td>\n",
       "      <td>-0.217063</td>\n",
       "      <td>-0.448300</td>\n",
       "      <td>0.260859</td>\n",
       "    </tr>\n",
       "    <tr>\n",
       "      <th>3</th>\n",
       "      <td>-0.121909</td>\n",
       "      <td>-0.088376</td>\n",
       "      <td>0.613637</td>\n",
       "      <td>-0.332697</td>\n",
       "      <td>1.135385</td>\n",
       "      <td>-0.410272</td>\n",
       "      <td>1.236648</td>\n",
       "      <td>-0.899132</td>\n",
       "      <td>0.393160</td>\n",
       "      <td>0.697097</td>\n",
       "      <td>-0.14426</td>\n",
       "      <td>-0.217063</td>\n",
       "      <td>0.770375</td>\n",
       "      <td>0.260859</td>\n",
       "    </tr>\n",
       "    <tr>\n",
       "      <th>4</th>\n",
       "      <td>1.777653</td>\n",
       "      <td>-0.088376</td>\n",
       "      <td>0.456853</td>\n",
       "      <td>0.185015</td>\n",
       "      <td>-0.421692</td>\n",
       "      <td>-0.410272</td>\n",
       "      <td>-1.027593</td>\n",
       "      <td>-0.899132</td>\n",
       "      <td>0.393160</td>\n",
       "      <td>0.697097</td>\n",
       "      <td>-0.14426</td>\n",
       "      <td>-0.217063</td>\n",
       "      <td>-0.854525</td>\n",
       "      <td>0.260859</td>\n",
       "    </tr>\n",
       "  </tbody>\n",
       "</table>\n",
       "</div>"
      ],
      "text/plain": [
       "        age  workclass    fnlwgt  education  education.num  marital.status  \\\n",
       "0  1.850713  -0.088376  1.246786  -0.332697       1.135385       -1.742386   \n",
       "1 -0.560269  -1.889076 -0.891714   0.185015      -0.421692       -1.742386   \n",
       "2 -0.998630  -0.088376 -1.370405   0.185015      -0.421692        0.921843   \n",
       "3 -0.121909  -0.088376  0.613637  -0.332697       1.135385       -0.410272   \n",
       "4  1.777653  -0.088376  0.456853   0.185015      -0.421692       -0.410272   \n",
       "\n",
       "   occupation  relationship      race       sex  capital.gain  capital.loss  \\\n",
       "0    1.236648     -0.276827  0.393160 -1.434521      -0.14426     -0.217063   \n",
       "1    0.230318      1.590090 -4.327948  0.697097      -0.14426     -0.217063   \n",
       "2   -0.272846     -0.276827  0.393160  0.697097      -0.14426     -0.217063   \n",
       "3    1.236648     -0.899132  0.393160  0.697097      -0.14426     -0.217063   \n",
       "4   -1.027593     -0.899132  0.393160  0.697097      -0.14426     -0.217063   \n",
       "\n",
       "   hours.per.week  native.country  \n",
       "0       -2.885649        0.260859  \n",
       "1       -0.042075        0.260859  \n",
       "2       -0.448300        0.260859  \n",
       "3        0.770375        0.260859  \n",
       "4       -0.854525        0.260859  "
      ]
     },
     "execution_count": 71,
     "metadata": {},
     "output_type": "execute_result"
    }
   ],
   "source": [
    "pX_train.head()"
   ]
  },
  {
   "cell_type": "code",
   "execution_count": 72,
   "metadata": {
    "colab": {
     "background_save": true,
     "base_uri": "https://localhost:8080/"
    },
    "executionInfo": {
     "elapsed": 304,
     "status": "ok",
     "timestamp": 1627206648194,
     "user": {
      "displayName": "Orr Avrech",
      "photoUrl": "",
      "userId": "08602400392920330638"
     },
     "user_tz": -180
    },
    "id": "Irlf2fESDy9f"
   },
   "outputs": [
    {
     "data": {
      "text/plain": [
       "age               0\n",
       "workclass         0\n",
       "fnlwgt            0\n",
       "education         0\n",
       "education.num     0\n",
       "marital.status    0\n",
       "occupation        0\n",
       "relationship      0\n",
       "race              0\n",
       "sex               0\n",
       "capital.gain      0\n",
       "capital.loss      0\n",
       "hours.per.week    0\n",
       "native.country    0\n",
       "dtype: int64"
      ]
     },
     "execution_count": 72,
     "metadata": {},
     "output_type": "execute_result"
    }
   ],
   "source": [
    "pX_train.isnull().sum()"
   ]
  },
  {
   "cell_type": "markdown",
   "metadata": {},
   "source": [
    "As seen by the plot below, the two classes (smaller or larger than a 50k income) are slightly imbalanced. Therefore, we chose a *macro-F1* as our measure of success for this task."
   ]
  },
  {
   "cell_type": "code",
   "execution_count": 73,
   "metadata": {},
   "outputs": [
    {
     "data": {
      "image/png": "[encoded data removed]",
      "text/plain": [
       "<Figure size 432x288 with 1 Axes>"
      ]
     },
     "metadata": {
      "needs_background": "light"
     },
     "output_type": "display_data"
    }
   ],
   "source": [
    "plt.hist(df['income'], density=True)\n",
    "plt.show()"
   ]
  },
  {
   "cell_type": "markdown",
   "metadata": {
    "id": "0ECjYYqnDZ5a"
   },
   "source": [
    "## Fit Student"
   ]
  },
  {
   "cell_type": "markdown",
   "metadata": {},
   "source": [
    "First, let's fit a **Random Forest** classifier as our student model. We set `n_estimators` as default of 100 estimators."
   ]
  },
  {
   "cell_type": "code",
   "execution_count": 74,
   "metadata": {
    "executionInfo": {
     "elapsed": 283,
     "status": "ok",
     "timestamp": 1627206381584,
     "user": {
      "displayName": "Orr Avrech",
      "photoUrl": "",
      "userId": "08602400392920330638"
     },
     "user_tz": -180
    },
    "id": "05nP9EUFDZDi"
   },
   "outputs": [],
   "source": [
    "from sklearn.ensemble import RandomForestClassifier\n",
    "from sklearn.metrics import roc_auc_score, f1_score"
   ]
  },
  {
   "cell_type": "code",
   "execution_count": 130,
   "metadata": {
    "colab": {
     "base_uri": "https://localhost:8080/"
    },
    "executionInfo": {
     "elapsed": 2059,
     "status": "ok",
     "timestamp": 1627206739142,
     "user": {
      "displayName": "Orr Avrech",
      "photoUrl": "",
      "userId": "08602400392920330638"
     },
     "user_tz": -180
    },
    "id": "QdKXN9hrDquA",
    "outputId": "d402aa76-8f29-4615-dee2-7d2794be8679"
   },
   "outputs": [
    {
     "data": {
      "text/plain": [
       "RandomForestClassifier(n_estimators=10, random_state=0)"
      ]
     },
     "execution_count": 130,
     "metadata": {},
     "output_type": "execute_result"
    }
   ],
   "source": [
    "clf = RandomForestClassifier(random_state=0)\n",
    "clf.fit(pX_train, y_train)"
   ]
  },
  {
   "cell_type": "code",
   "execution_count": 131,
   "metadata": {
    "executionInfo": {
     "elapsed": 690,
     "status": "ok",
     "timestamp": 1627206741583,
     "user": {
      "displayName": "Orr Avrech",
      "photoUrl": "",
      "userId": "08602400392920330638"
     },
     "user_tz": -180
    },
    "id": "BccKvstsEyOw"
   },
   "outputs": [],
   "source": [
    "test_preds = clf.predict(pX_test)\n",
    "test_probas = clf.predict_proba(pX_test)[:, 1]"
   ]
  },
  {
   "cell_type": "markdown",
   "metadata": {},
   "source": [
    "### Metrics\n",
    "Macro-F1 and ROC-AUC"
   ]
  },
  {
   "cell_type": "code",
   "execution_count": 132,
   "metadata": {},
   "outputs": [
    {
     "data": {
      "text/plain": [
       "0.7763204980174745"
      ]
     },
     "execution_count": 132,
     "metadata": {},
     "output_type": "execute_result"
    }
   ],
   "source": [
    "f1_score(y_test, test_preds, average='macro')"
   ]
  },
  {
   "cell_type": "code",
   "execution_count": 133,
   "metadata": {
    "colab": {
     "base_uri": "https://localhost:8080/"
    },
    "executionInfo": {
     "elapsed": 299,
     "status": "ok",
     "timestamp": 1627206744112,
     "user": {
      "displayName": "Orr Avrech",
      "photoUrl": "",
      "userId": "08602400392920330638"
     },
     "user_tz": -180
    },
    "id": "85wrlxJbE70t",
    "outputId": "950350f1-f461-4f07-b61c-625f61656fc2"
   },
   "outputs": [
    {
     "data": {
      "text/plain": [
       "0.8803877171628337"
      ]
     },
     "execution_count": 133,
     "metadata": {},
     "output_type": "execute_result"
    }
   ],
   "source": [
    "roc_auc_score(y_test, test_probas)"
   ]
  },
  {
   "cell_type": "markdown",
   "metadata": {
    "id": "4yzcgA9uGfWE"
   },
   "source": [
    "## Fit Teacher (AutoGluon)"
   ]
  },
  {
   "cell_type": "markdown",
   "metadata": {},
   "source": [
    "For the teacher model, we'll be using [AutoGluon](https://auto.gluon.ai/stable/index.html), which is an intuitive AutoML framework for multiple applications, including tabular data."
   ]
  },
  {
   "cell_type": "code",
   "execution_count": 79,
   "metadata": {},
   "outputs": [],
   "source": [
    "import graphviz\n",
    "from autogluon.tabular import TabularDataset, TabularPredictor"
   ]
  },
  {
   "cell_type": "code",
   "execution_count": 80,
   "metadata": {
    "colab": {
     "base_uri": "https://localhost:8080/",
     "height": 204
    },
    "executionInfo": {
     "elapsed": 322,
     "status": "ok",
     "timestamp": 1627207235856,
     "user": {
      "displayName": "Orr Avrech",
      "photoUrl": "",
      "userId": "08602400392920330638"
     },
     "user_tz": -180
    },
    "id": "6PHpU7JRGy46",
    "outputId": "12a914ca-db92-496f-8976-2f61245fe781"
   },
   "outputs": [
    {
     "data": {
      "text/html": [
       "<div>\n",
       "<style scoped>\n",
       "    .dataframe tbody tr th:only-of-type {\n",
       "        vertical-align: middle;\n",
       "    }\n",
       "\n",
       "    .dataframe tbody tr th {\n",
       "        vertical-align: top;\n",
       "    }\n",
       "\n",
       "    .dataframe thead th {\n",
       "        text-align: right;\n",
       "    }\n",
       "</style>\n",
       "<table border=\"1\" class=\"dataframe\">\n",
       "  <thead>\n",
       "    <tr style=\"text-align: right;\">\n",
       "      <th></th>\n",
       "      <th>age</th>\n",
       "      <th>workclass</th>\n",
       "      <th>fnlwgt</th>\n",
       "      <th>education</th>\n",
       "      <th>education.num</th>\n",
       "      <th>marital.status</th>\n",
       "      <th>occupation</th>\n",
       "      <th>relationship</th>\n",
       "      <th>race</th>\n",
       "      <th>sex</th>\n",
       "      <th>capital.gain</th>\n",
       "      <th>capital.loss</th>\n",
       "      <th>hours.per.week</th>\n",
       "      <th>native.country</th>\n",
       "      <th>income</th>\n",
       "    </tr>\n",
       "  </thead>\n",
       "  <tbody>\n",
       "    <tr>\n",
       "      <th>0</th>\n",
       "      <td>1.850713</td>\n",
       "      <td>-0.088376</td>\n",
       "      <td>1.246786</td>\n",
       "      <td>-0.332697</td>\n",
       "      <td>1.135385</td>\n",
       "      <td>-1.742386</td>\n",
       "      <td>1.236648</td>\n",
       "      <td>-0.276827</td>\n",
       "      <td>0.393160</td>\n",
       "      <td>-1.434521</td>\n",
       "      <td>-0.14426</td>\n",
       "      <td>-0.217063</td>\n",
       "      <td>-2.885649</td>\n",
       "      <td>0.260859</td>\n",
       "      <td>0</td>\n",
       "    </tr>\n",
       "    <tr>\n",
       "      <th>1</th>\n",
       "      <td>-0.560269</td>\n",
       "      <td>-1.889076</td>\n",
       "      <td>-0.891714</td>\n",
       "      <td>0.185015</td>\n",
       "      <td>-0.421692</td>\n",
       "      <td>-1.742386</td>\n",
       "      <td>0.230318</td>\n",
       "      <td>1.590090</td>\n",
       "      <td>-4.327948</td>\n",
       "      <td>0.697097</td>\n",
       "      <td>-0.14426</td>\n",
       "      <td>-0.217063</td>\n",
       "      <td>-0.042075</td>\n",
       "      <td>0.260859</td>\n",
       "      <td>0</td>\n",
       "    </tr>\n",
       "    <tr>\n",
       "      <th>2</th>\n",
       "      <td>-0.998630</td>\n",
       "      <td>-0.088376</td>\n",
       "      <td>-1.370405</td>\n",
       "      <td>0.185015</td>\n",
       "      <td>-0.421692</td>\n",
       "      <td>0.921843</td>\n",
       "      <td>-0.272846</td>\n",
       "      <td>-0.276827</td>\n",
       "      <td>0.393160</td>\n",
       "      <td>0.697097</td>\n",
       "      <td>-0.14426</td>\n",
       "      <td>-0.217063</td>\n",
       "      <td>-0.448300</td>\n",
       "      <td>0.260859</td>\n",
       "      <td>0</td>\n",
       "    </tr>\n",
       "    <tr>\n",
       "      <th>3</th>\n",
       "      <td>-0.121909</td>\n",
       "      <td>-0.088376</td>\n",
       "      <td>0.613637</td>\n",
       "      <td>-0.332697</td>\n",
       "      <td>1.135385</td>\n",
       "      <td>-0.410272</td>\n",
       "      <td>1.236648</td>\n",
       "      <td>-0.899132</td>\n",
       "      <td>0.393160</td>\n",
       "      <td>0.697097</td>\n",
       "      <td>-0.14426</td>\n",
       "      <td>-0.217063</td>\n",
       "      <td>0.770375</td>\n",
       "      <td>0.260859</td>\n",
       "      <td>0</td>\n",
       "    </tr>\n",
       "    <tr>\n",
       "      <th>4</th>\n",
       "      <td>1.777653</td>\n",
       "      <td>-0.088376</td>\n",
       "      <td>0.456853</td>\n",
       "      <td>0.185015</td>\n",
       "      <td>-0.421692</td>\n",
       "      <td>-0.410272</td>\n",
       "      <td>-1.027593</td>\n",
       "      <td>-0.899132</td>\n",
       "      <td>0.393160</td>\n",
       "      <td>0.697097</td>\n",
       "      <td>-0.14426</td>\n",
       "      <td>-0.217063</td>\n",
       "      <td>-0.854525</td>\n",
       "      <td>0.260859</td>\n",
       "      <td>0</td>\n",
       "    </tr>\n",
       "  </tbody>\n",
       "</table>\n",
       "</div>"
      ],
      "text/plain": [
       "        age  workclass    fnlwgt  education  education.num  marital.status  \\\n",
       "0  1.850713  -0.088376  1.246786  -0.332697       1.135385       -1.742386   \n",
       "1 -0.560269  -1.889076 -0.891714   0.185015      -0.421692       -1.742386   \n",
       "2 -0.998630  -0.088376 -1.370405   0.185015      -0.421692        0.921843   \n",
       "3 -0.121909  -0.088376  0.613637  -0.332697       1.135385       -0.410272   \n",
       "4  1.777653  -0.088376  0.456853   0.185015      -0.421692       -0.410272   \n",
       "\n",
       "   occupation  relationship      race       sex  capital.gain  capital.loss  \\\n",
       "0    1.236648     -0.276827  0.393160 -1.434521      -0.14426     -0.217063   \n",
       "1    0.230318      1.590090 -4.327948  0.697097      -0.14426     -0.217063   \n",
       "2   -0.272846     -0.276827  0.393160  0.697097      -0.14426     -0.217063   \n",
       "3    1.236648     -0.899132  0.393160  0.697097      -0.14426     -0.217063   \n",
       "4   -1.027593     -0.899132  0.393160  0.697097      -0.14426     -0.217063   \n",
       "\n",
       "   hours.per.week  native.country  income  \n",
       "0       -2.885649        0.260859       0  \n",
       "1       -0.042075        0.260859       0  \n",
       "2       -0.448300        0.260859       0  \n",
       "3        0.770375        0.260859       0  \n",
       "4       -0.854525        0.260859       0  "
      ]
     },
     "execution_count": 80,
     "metadata": {},
     "output_type": "execute_result"
    }
   ],
   "source": [
    "label = 'income'\n",
    "df_train = pX_train.copy()\n",
    "df_train[label] = y_train.reset_index(drop=True)\n",
    "df_train.head()"
   ]
  },
  {
   "cell_type": "code",
   "execution_count": 81,
   "metadata": {},
   "outputs": [
    {
     "data": {
      "text/html": [
       "<div>\n",
       "<style scoped>\n",
       "    .dataframe tbody tr th:only-of-type {\n",
       "        vertical-align: middle;\n",
       "    }\n",
       "\n",
       "    .dataframe tbody tr th {\n",
       "        vertical-align: top;\n",
       "    }\n",
       "\n",
       "    .dataframe thead th {\n",
       "        text-align: right;\n",
       "    }\n",
       "</style>\n",
       "<table border=\"1\" class=\"dataframe\">\n",
       "  <thead>\n",
       "    <tr style=\"text-align: right;\">\n",
       "      <th></th>\n",
       "      <th>age</th>\n",
       "      <th>workclass</th>\n",
       "      <th>fnlwgt</th>\n",
       "      <th>education</th>\n",
       "      <th>education.num</th>\n",
       "      <th>marital.status</th>\n",
       "      <th>occupation</th>\n",
       "      <th>relationship</th>\n",
       "      <th>race</th>\n",
       "      <th>sex</th>\n",
       "      <th>capital.gain</th>\n",
       "      <th>capital.loss</th>\n",
       "      <th>hours.per.week</th>\n",
       "      <th>native.country</th>\n",
       "      <th>income</th>\n",
       "    </tr>\n",
       "  </thead>\n",
       "  <tbody>\n",
       "    <tr>\n",
       "      <th>0</th>\n",
       "      <td>1.266233</td>\n",
       "      <td>-0.088376</td>\n",
       "      <td>0.805319</td>\n",
       "      <td>-1.109266</td>\n",
       "      <td>-1.978770</td>\n",
       "      <td>2.253958</td>\n",
       "      <td>1.236648</td>\n",
       "      <td>1.590090</td>\n",
       "      <td>0.393160</td>\n",
       "      <td>-1.434521</td>\n",
       "      <td>-0.14426</td>\n",
       "      <td>-0.217063</td>\n",
       "      <td>-0.042075</td>\n",
       "      <td>0.260859</td>\n",
       "      <td>0</td>\n",
       "    </tr>\n",
       "    <tr>\n",
       "      <th>1</th>\n",
       "      <td>-1.436990</td>\n",
       "      <td>-0.088376</td>\n",
       "      <td>0.455293</td>\n",
       "      <td>0.185015</td>\n",
       "      <td>-0.421692</td>\n",
       "      <td>0.921843</td>\n",
       "      <td>-0.272846</td>\n",
       "      <td>0.967785</td>\n",
       "      <td>0.393160</td>\n",
       "      <td>-1.434521</td>\n",
       "      <td>-0.14426</td>\n",
       "      <td>-0.217063</td>\n",
       "      <td>-1.260750</td>\n",
       "      <td>0.260859</td>\n",
       "      <td>0</td>\n",
       "    </tr>\n",
       "    <tr>\n",
       "      <th>2</th>\n",
       "      <td>-1.144750</td>\n",
       "      <td>-0.088376</td>\n",
       "      <td>-0.603334</td>\n",
       "      <td>1.220441</td>\n",
       "      <td>-0.032423</td>\n",
       "      <td>0.921843</td>\n",
       "      <td>0.230318</td>\n",
       "      <td>-0.276827</td>\n",
       "      <td>-3.147671</td>\n",
       "      <td>-1.434521</td>\n",
       "      <td>-0.14426</td>\n",
       "      <td>-0.217063</td>\n",
       "      <td>-0.448300</td>\n",
       "      <td>0.426445</td>\n",
       "      <td>0</td>\n",
       "    </tr>\n",
       "    <tr>\n",
       "      <th>3</th>\n",
       "      <td>-0.121909</td>\n",
       "      <td>-2.789426</td>\n",
       "      <td>-1.328652</td>\n",
       "      <td>-0.332697</td>\n",
       "      <td>1.135385</td>\n",
       "      <td>-0.410272</td>\n",
       "      <td>0.733483</td>\n",
       "      <td>-0.899132</td>\n",
       "      <td>0.393160</td>\n",
       "      <td>0.697097</td>\n",
       "      <td>-0.14426</td>\n",
       "      <td>-0.217063</td>\n",
       "      <td>-0.042075</td>\n",
       "      <td>0.260859</td>\n",
       "      <td>0</td>\n",
       "    </tr>\n",
       "    <tr>\n",
       "      <th>4</th>\n",
       "      <td>0.754812</td>\n",
       "      <td>-0.088376</td>\n",
       "      <td>2.211732</td>\n",
       "      <td>0.443872</td>\n",
       "      <td>1.524654</td>\n",
       "      <td>-0.410272</td>\n",
       "      <td>1.236648</td>\n",
       "      <td>-0.899132</td>\n",
       "      <td>0.393160</td>\n",
       "      <td>0.697097</td>\n",
       "      <td>-0.14426</td>\n",
       "      <td>-0.217063</td>\n",
       "      <td>0.770375</td>\n",
       "      <td>0.260859</td>\n",
       "      <td>1</td>\n",
       "    </tr>\n",
       "  </tbody>\n",
       "</table>\n",
       "</div>"
      ],
      "text/plain": [
       "        age  workclass    fnlwgt  education  education.num  marital.status  \\\n",
       "0  1.266233  -0.088376  0.805319  -1.109266      -1.978770        2.253958   \n",
       "1 -1.436990  -0.088376  0.455293   0.185015      -0.421692        0.921843   \n",
       "2 -1.144750  -0.088376 -0.603334   1.220441      -0.032423        0.921843   \n",
       "3 -0.121909  -2.789426 -1.328652  -0.332697       1.135385       -0.410272   \n",
       "4  0.754812  -0.088376  2.211732   0.443872       1.524654       -0.410272   \n",
       "\n",
       "   occupation  relationship      race       sex  capital.gain  capital.loss  \\\n",
       "0    1.236648      1.590090  0.393160 -1.434521      -0.14426     -0.217063   \n",
       "1   -0.272846      0.967785  0.393160 -1.434521      -0.14426     -0.217063   \n",
       "2    0.230318     -0.276827 -3.147671 -1.434521      -0.14426     -0.217063   \n",
       "3    0.733483     -0.899132  0.393160  0.697097      -0.14426     -0.217063   \n",
       "4    1.236648     -0.899132  0.393160  0.697097      -0.14426     -0.217063   \n",
       "\n",
       "   hours.per.week  native.country  income  \n",
       "0       -0.042075        0.260859       0  \n",
       "1       -1.260750        0.260859       0  \n",
       "2       -0.448300        0.426445       0  \n",
       "3       -0.042075        0.260859       0  \n",
       "4        0.770375        0.260859       1  "
      ]
     },
     "execution_count": 81,
     "metadata": {},
     "output_type": "execute_result"
    }
   ],
   "source": [
    "df_test = pX_test.copy()\n",
    "df_test[label] = y_test.reset_index(drop=True)\n",
    "df_test.head()"
   ]
  },
  {
   "cell_type": "code",
   "execution_count": 82,
   "metadata": {
    "id": "tAO4F8YBGiBF"
   },
   "outputs": [
    {
     "name": "stderr",
     "output_type": "stream",
     "text": [
      "No path specified. Models will be saved in: \"AutogluonModels/ag-20210730_155720\\\"\n",
      "Presets specified: ['best_quality']\n",
      "Beginning AutoGluon training ... Time limit = 60s\n",
      "AutoGluon will save models to \"AutogluonModels/ag-20210730_155720\\\"\n",
      "AutoGluon Version:  0.2.0\n",
      "Train Data Rows:    16280\n",
      "Train Data Columns: 14\n",
      "Preprocessing data ...\n",
      "AutoGluon infers your prediction problem is: 'binary' (because only two unique label-values observed).\n",
      "\t2 unique label values:  [0, 1]\n",
      "\tIf 'binary' is not the correct problem_type, please manually specify the problem_type argument in fit() (You may specify problem_type as one of: ['binary', 'multiclass', 'regression'])\n",
      "Selected class <--> label mapping:  class 1 = 1, class 0 = 0\n",
      "Using Feature Generators to preprocess the data ...\n",
      "Fitting AutoMLPipelineFeatureGenerator...\n",
      "\tAvailable Memory:                    1869.96 MB\n",
      "\tTrain Data (Original)  Memory Usage: 1.82 MB (0.1% of available memory)\n",
      "\tInferring data type of each feature based on column values. Set feature_metadata_in to manually specify special dtypes of the features.\n",
      "\tStage 1 Generators:\n",
      "\t\tFitting AsTypeFeatureGenerator...\n",
      "\tStage 2 Generators:\n",
      "\t\tFitting FillNaFeatureGenerator...\n",
      "\tStage 3 Generators:\n",
      "\t\tFitting IdentityFeatureGenerator...\n",
      "\tStage 4 Generators:\n",
      "\t\tFitting DropUniqueFeatureGenerator...\n",
      "\tTypes of features in original data (raw dtype, special dtypes):\n",
      "\t\t('float', []) : 14 | ['age', 'workclass', 'fnlwgt', 'education', 'education.num', ...]\n",
      "\tTypes of features in processed data (raw dtype, special dtypes):\n",
      "\t\t('float', []) : 14 | ['age', 'workclass', 'fnlwgt', 'education', 'education.num', ...]\n",
      "\t0.1s = Fit runtime\n",
      "\t14 features in original data used to generate 14 features in processed data.\n",
      "\tTrain Data (Processed) Memory Usage: 1.82 MB (0.1% of available memory)\n",
      "Data preprocessing and feature engineering runtime = 0.1s ...\n",
      "AutoGluon will gauge predictive performance using evaluation metric: 'roc_auc'\n",
      "\tThis metric expects predicted probabilities rather than predicted class labels, so you'll need to use predict_proba() instead of predict()\n",
      "\tTo change this, specify the eval_metric argument of fit()\n",
      "Fitting model: KNeighborsUnif_BAG_L1 ... Training model for up to 39.92s of the 59.89s of remaining time.\n",
      "\t0.846\t = Validation roc_auc score\n",
      "\t0.4s\t = Training runtime\n",
      "\t2.1s\t = Validation runtime\n",
      "Fitting model: KNeighborsDist_BAG_L1 ... Training model for up to 37.27s of the 57.24s of remaining time.\n",
      "\t0.8459\t = Validation roc_auc score\n",
      "\t0.41s\t = Training runtime\n",
      "\t2.06s\t = Validation runtime\n",
      "Fitting model: LightGBMXT_BAG_L1 ... Training model for up to 34.64s of the 54.61s of remaining time.\n",
      "\t0.9223\t = Validation roc_auc score\n",
      "\t15.78s\t = Training runtime\n",
      "\t0.24s\t = Validation runtime\n",
      "Fitting model: LightGBM_BAG_L1 ... Training model for up to 17.82s of the 37.79s of remaining time.\n",
      "\t0.9275\t = Validation roc_auc score\n",
      "\t10.95s\t = Training runtime\n",
      "\t0.16s\t = Validation runtime\n",
      "Fitting model: RandomForestGini_BAG_L1 ... Training model for up to 6.36s of the 26.33s of remaining time.\n",
      "\t0.9061\t = Validation roc_auc score\n",
      "\t3.35s\t = Training runtime\n",
      "\t1.14s\t = Validation runtime\n",
      "Fitting model: RandomForestEntr_BAG_L1 ... Training model for up to 1.22s of the 21.19s of remaining time.\n",
      "\tWarning: Reducing model 'n_estimators' from 300 -> 43 due to low time. Expected time usage reduced from 8.3s -> 1.2s...\n",
      "\t0.8912\t = Validation roc_auc score\n",
      "\t0.42s\t = Training runtime\n",
      "\t0.1s\t = Validation runtime\n",
      "Fitting model: CatBoost_BAG_L1 ... Training model for up to 0.55s of the 20.52s of remaining time.\n",
      "\tTime limit exceeded... Skipping CatBoost_BAG_L1.\n",
      "Fitting model: ExtraTreesGini_BAG_L1 ... Training model for up to 0.37s of the 20.34s of remaining time.\n",
      "\tWarning: Model is expected to require 8.3s to train, which exceeds the maximum time limit of 0.4s, skipping model...\n",
      "\tTime limit exceeded... Skipping ExtraTreesGini_BAG_L1.\n",
      "Fitting model: ExtraTreesEntr_BAG_L1 ... Training model for up to 0.24s of the 20.22s of remaining time.\n",
      "\tWarning: Model is expected to require 9.3s to train, which exceeds the maximum time limit of 0.2s, skipping model...\n",
      "\tTime limit exceeded... Skipping ExtraTreesEntr_BAG_L1.\n",
      "Fitting model: NeuralNetFastAI_BAG_L1 ... Training model for up to 0.09s of the 20.06s of remaining time.\n",
      "\tRan out of time, stopping training early.\n",
      "\tTime limit exceeded... Skipping NeuralNetFastAI_BAG_L1.\n",
      "Completed 1/20 k-fold bagging repeats ...\n",
      "Fitting model: WeightedEnsemble_L2 ... Training model for up to 59.9s of the 19.13s of remaining time.\n",
      "\t0.9275\t = Validation roc_auc score\n",
      "\t5.42s\t = Training runtime\n",
      "\t0.01s\t = Validation runtime\n",
      "Fitting model: KNeighborsUnif_BAG_L2 ... Training model for up to 13.67s of the 13.66s of remaining time.\n",
      "\t0.8731\t = Validation roc_auc score\n",
      "\t0.02s\t = Training runtime\n",
      "\t11.82s\t = Validation runtime\n",
      "Fitting model: KNeighborsDist_BAG_L2 ... Training model for up to 1.45s of the 1.44s of remaining time.\n",
      "\t0.8797\t = Validation roc_auc score\n",
      "\t0.01s\t = Training runtime\n",
      "\t12.57s\t = Validation runtime\n",
      "Completed 1/20 k-fold bagging repeats ...\n",
      "Fitting model: WeightedEnsemble_L3 ... Training model for up to 59.9s of the -11.44s of remaining time.\n",
      "\t0.8797\t = Validation roc_auc score\n",
      "\t1.85s\t = Training runtime\n",
      "\t0.01s\t = Validation runtime\n",
      "AutoGluon training complete, total runtime = 73.33s ...\n",
      "TabularPredictor saved. To load, use: predictor = TabularPredictor.load(\"AutogluonModels/ag-20210730_155720\\\")\n"
     ]
    },
    {
     "data": {
      "text/html": [
       "<div>\n",
       "<style scoped>\n",
       "    .dataframe tbody tr th:only-of-type {\n",
       "        vertical-align: middle;\n",
       "    }\n",
       "\n",
       "    .dataframe tbody tr th {\n",
       "        vertical-align: top;\n",
       "    }\n",
       "\n",
       "    .dataframe thead th {\n",
       "        text-align: right;\n",
       "    }\n",
       "</style>\n",
       "<table border=\"1\" class=\"dataframe\">\n",
       "  <thead>\n",
       "    <tr style=\"text-align: right;\">\n",
       "      <th></th>\n",
       "      <th>model</th>\n",
       "      <th>score_test</th>\n",
       "      <th>score_val</th>\n",
       "      <th>pred_time_test</th>\n",
       "      <th>pred_time_val</th>\n",
       "      <th>fit_time</th>\n",
       "      <th>pred_time_test_marginal</th>\n",
       "      <th>pred_time_val_marginal</th>\n",
       "      <th>fit_time_marginal</th>\n",
       "      <th>stack_level</th>\n",
       "      <th>can_infer</th>\n",
       "      <th>fit_order</th>\n",
       "    </tr>\n",
       "  </thead>\n",
       "  <tbody>\n",
       "    <tr>\n",
       "      <th>0</th>\n",
       "      <td>LightGBM_BAG_L1</td>\n",
       "      <td>0.925207</td>\n",
       "      <td>0.927467</td>\n",
       "      <td>1.537489</td>\n",
       "      <td>0.163111</td>\n",
       "      <td>10.947998</td>\n",
       "      <td>1.537489</td>\n",
       "      <td>0.163111</td>\n",
       "      <td>10.947998</td>\n",
       "      <td>1</td>\n",
       "      <td>True</td>\n",
       "      <td>4</td>\n",
       "    </tr>\n",
       "    <tr>\n",
       "      <th>1</th>\n",
       "      <td>WeightedEnsemble_L2</td>\n",
       "      <td>0.925146</td>\n",
       "      <td>0.927497</td>\n",
       "      <td>5.304272</td>\n",
       "      <td>0.417144</td>\n",
       "      <td>32.150817</td>\n",
       "      <td>0.002980</td>\n",
       "      <td>0.010750</td>\n",
       "      <td>5.423914</td>\n",
       "      <td>2</td>\n",
       "      <td>True</td>\n",
       "      <td>7</td>\n",
       "    </tr>\n",
       "    <tr>\n",
       "      <th>2</th>\n",
       "      <td>LightGBMXT_BAG_L1</td>\n",
       "      <td>0.920920</td>\n",
       "      <td>0.922332</td>\n",
       "      <td>3.763802</td>\n",
       "      <td>0.243284</td>\n",
       "      <td>15.778904</td>\n",
       "      <td>3.763802</td>\n",
       "      <td>0.243284</td>\n",
       "      <td>15.778904</td>\n",
       "      <td>1</td>\n",
       "      <td>True</td>\n",
       "      <td>3</td>\n",
       "    </tr>\n",
       "    <tr>\n",
       "      <th>3</th>\n",
       "      <td>RandomForestGini_BAG_L1</td>\n",
       "      <td>0.905043</td>\n",
       "      <td>0.906127</td>\n",
       "      <td>0.742732</td>\n",
       "      <td>1.143760</td>\n",
       "      <td>3.351166</td>\n",
       "      <td>0.742732</td>\n",
       "      <td>1.143760</td>\n",
       "      <td>3.351166</td>\n",
       "      <td>1</td>\n",
       "      <td>True</td>\n",
       "      <td>5</td>\n",
       "    </tr>\n",
       "    <tr>\n",
       "      <th>4</th>\n",
       "      <td>RandomForestEntr_BAG_L1</td>\n",
       "      <td>0.900699</td>\n",
       "      <td>0.891174</td>\n",
       "      <td>0.165106</td>\n",
       "      <td>0.095909</td>\n",
       "      <td>0.415925</td>\n",
       "      <td>0.165106</td>\n",
       "      <td>0.095909</td>\n",
       "      <td>0.415925</td>\n",
       "      <td>1</td>\n",
       "      <td>True</td>\n",
       "      <td>6</td>\n",
       "    </tr>\n",
       "    <tr>\n",
       "      <th>5</th>\n",
       "      <td>KNeighborsDist_BAG_L2</td>\n",
       "      <td>0.859941</td>\n",
       "      <td>0.879682</td>\n",
       "      <td>25.159370</td>\n",
       "      <td>18.374970</td>\n",
       "      <td>31.315113</td>\n",
       "      <td>12.852915</td>\n",
       "      <td>12.569416</td>\n",
       "      <td>0.010000</td>\n",
       "      <td>2</td>\n",
       "      <td>True</td>\n",
       "      <td>9</td>\n",
       "    </tr>\n",
       "    <tr>\n",
       "      <th>6</th>\n",
       "      <td>WeightedEnsemble_L3</td>\n",
       "      <td>0.859941</td>\n",
       "      <td>0.879682</td>\n",
       "      <td>25.160396</td>\n",
       "      <td>18.384741</td>\n",
       "      <td>33.163088</td>\n",
       "      <td>0.001026</td>\n",
       "      <td>0.009771</td>\n",
       "      <td>1.847975</td>\n",
       "      <td>3</td>\n",
       "      <td>True</td>\n",
       "      <td>10</td>\n",
       "    </tr>\n",
       "    <tr>\n",
       "      <th>7</th>\n",
       "      <td>KNeighborsUnif_BAG_L2</td>\n",
       "      <td>0.858357</td>\n",
       "      <td>0.873132</td>\n",
       "      <td>23.002962</td>\n",
       "      <td>17.630120</td>\n",
       "      <td>31.325801</td>\n",
       "      <td>10.696508</td>\n",
       "      <td>11.824566</td>\n",
       "      <td>0.020688</td>\n",
       "      <td>2</td>\n",
       "      <td>True</td>\n",
       "      <td>8</td>\n",
       "    </tr>\n",
       "    <tr>\n",
       "      <th>8</th>\n",
       "      <td>KNeighborsDist_BAG_L1</td>\n",
       "      <td>0.846997</td>\n",
       "      <td>0.845932</td>\n",
       "      <td>2.898055</td>\n",
       "      <td>2.062418</td>\n",
       "      <td>0.411388</td>\n",
       "      <td>2.898055</td>\n",
       "      <td>2.062418</td>\n",
       "      <td>0.411388</td>\n",
       "      <td>1</td>\n",
       "      <td>True</td>\n",
       "      <td>2</td>\n",
       "    </tr>\n",
       "    <tr>\n",
       "      <th>9</th>\n",
       "      <td>KNeighborsUnif_BAG_L1</td>\n",
       "      <td>0.846808</td>\n",
       "      <td>0.846039</td>\n",
       "      <td>3.199270</td>\n",
       "      <td>2.097073</td>\n",
       "      <td>0.399731</td>\n",
       "      <td>3.199270</td>\n",
       "      <td>2.097073</td>\n",
       "      <td>0.399731</td>\n",
       "      <td>1</td>\n",
       "      <td>True</td>\n",
       "      <td>1</td>\n",
       "    </tr>\n",
       "  </tbody>\n",
       "</table>\n",
       "</div>"
      ],
      "text/plain": [
       "                     model  score_test  score_val  pred_time_test  \\\n",
       "0          LightGBM_BAG_L1    0.925207   0.927467        1.537489   \n",
       "1      WeightedEnsemble_L2    0.925146   0.927497        5.304272   \n",
       "2        LightGBMXT_BAG_L1    0.920920   0.922332        3.763802   \n",
       "3  RandomForestGini_BAG_L1    0.905043   0.906127        0.742732   \n",
       "4  RandomForestEntr_BAG_L1    0.900699   0.891174        0.165106   \n",
       "5    KNeighborsDist_BAG_L2    0.859941   0.879682       25.159370   \n",
       "6      WeightedEnsemble_L3    0.859941   0.879682       25.160396   \n",
       "7    KNeighborsUnif_BAG_L2    0.858357   0.873132       23.002962   \n",
       "8    KNeighborsDist_BAG_L1    0.846997   0.845932        2.898055   \n",
       "9    KNeighborsUnif_BAG_L1    0.846808   0.846039        3.199270   \n",
       "\n",
       "   pred_time_val   fit_time  pred_time_test_marginal  pred_time_val_marginal  \\\n",
       "0       0.163111  10.947998                 1.537489                0.163111   \n",
       "1       0.417144  32.150817                 0.002980                0.010750   \n",
       "2       0.243284  15.778904                 3.763802                0.243284   \n",
       "3       1.143760   3.351166                 0.742732                1.143760   \n",
       "4       0.095909   0.415925                 0.165106                0.095909   \n",
       "5      18.374970  31.315113                12.852915               12.569416   \n",
       "6      18.384741  33.163088                 0.001026                0.009771   \n",
       "7      17.630120  31.325801                10.696508               11.824566   \n",
       "8       2.062418   0.411388                 2.898055                2.062418   \n",
       "9       2.097073   0.399731                 3.199270                2.097073   \n",
       "\n",
       "   fit_time_marginal  stack_level  can_infer  fit_order  \n",
       "0          10.947998            1       True          4  \n",
       "1           5.423914            2       True          7  \n",
       "2          15.778904            1       True          3  \n",
       "3           3.351166            1       True          5  \n",
       "4           0.415925            1       True          6  \n",
       "5           0.010000            2       True          9  \n",
       "6           1.847975            3       True         10  \n",
       "7           0.020688            2       True          8  \n",
       "8           0.411388            1       True          2  \n",
       "9           0.399731            1       True          1  "
      ]
     },
     "execution_count": 82,
     "metadata": {},
     "output_type": "execute_result"
    }
   ],
   "source": [
    "time_limit = 60 #600  # for quick demonstration only, you should set this to longest time you are willing to wait (in seconds)\n",
    "metric = 'roc_auc'  # specify your evaluation metric here\n",
    "predictor = TabularPredictor(label, eval_metric=metric).fit(df_train, time_limit=time_limit, presets='best_quality', auto_stack=True)\n",
    "predictor.leaderboard(df_test, silent=True)"
   ]
  },
  {
   "cell_type": "markdown",
   "metadata": {},
   "source": [
    "## Augment training samples for distillation"
   ]
  },
  {
   "cell_type": "markdown",
   "metadata": {},
   "source": [
    "Training the student on an augmeneted training set, should reduce the approximation error between the teacher and the student, and should therefore lead to better results at the same computational cost. The augmentation procedure is composed of two main stages:\n",
    "1. For all features $i$, estimate the conditional distribution $p(x^i | x^{-i})$ using the training data.\n",
    "2. Sample new features\n",
    "\n",
    "The conditional ditribution estimation is done via a Self-Attention mechanism trained with a pseudolikelihood objective. When sampling, we compare between two methods. The first method, and the one presented in the paper is Gibbs sampling, which aims to estimate $p(x)$ directly. The second method, is simply by using the output of the Self-Attention model, which estimated the conditioal distribution of each feature."
   ]
  },
  {
   "cell_type": "code",
   "execution_count": 83,
   "metadata": {},
   "outputs": [],
   "source": [
    "import torch\n",
    "from torch.utils.data import DataLoader\n",
    "from models.transformer import CondEncoder"
   ]
  },
  {
   "cell_type": "code",
   "execution_count": 84,
   "metadata": {},
   "outputs": [],
   "source": [
    "class Dataset(torch.utils.data.Dataset):\n",
    "    def __init__(self, data_obj):\n",
    "\n",
    "        # data size\n",
    "        self.N = data_obj.shape[0]\n",
    "        self.data = data_obj.astype(np.float32)\n",
    "\n",
    "    def __getitem__(self, idx):\n",
    "        x = self.data[idx]\n",
    "        return x\n",
    "\n",
    "    def __len__(self):\n",
    "        return self.N"
   ]
  },
  {
   "cell_type": "code",
   "execution_count": 85,
   "metadata": {},
   "outputs": [],
   "source": [
    "ds_train = Dataset(data_obj=pX_train.to_numpy())\n",
    "train_loader = DataLoader(ds_train, batch_size=100, shuffle=True)"
   ]
  },
  {
   "cell_type": "code",
   "execution_count": 171,
   "metadata": {},
   "outputs": [],
   "source": [
    "import time\n",
    "n_feat = [1, 5, 10, 15, 20, 100, 300, 500]\n",
    "# n_feat = [2, 14, 500]\n",
    "# durs = []\n",
    "# for feat in n_feat:\n",
    "#     x = np.random.random((1000, feat))\n",
    "#     ds = Dataset(data_obj=x)\n",
    "#     loader = DataLoader(ds, batch_size=1)\n",
    "#     start = time.time()\n",
    "#     enc.sample_conditionals(train_loader, num_iter=1)\n",
    "#     dur = time.time() - start\n",
    "#     durs.append(dur)"
   ]
  },
  {
   "cell_type": "code",
   "execution_count": 166,
   "metadata": {},
   "outputs": [],
   "source": [
    "gibbs_durs = durs"
   ]
  },
  {
   "cell_type": "code",
   "execution_count": 167,
   "metadata": {},
   "outputs": [
    {
     "data": {
      "text/plain": [
       "[<matplotlib.lines.Line2D at 0x17f955d5240>]"
      ]
     },
     "execution_count": 167,
     "metadata": {},
     "output_type": "execute_result"
    },
    {
     "data": {
      "image/png": "[encoded data removed]",
      "text/plain": [
       "<Figure size 432x288 with 1 Axes>"
      ]
     },
     "metadata": {
      "needs_background": "light"
     },
     "output_type": "display_data"
    }
   ],
   "source": [
    "plt.plot(n_feat, gibbs_durs)"
   ]
  },
  {
   "cell_type": "code",
   "execution_count": 164,
   "metadata": {},
   "outputs": [
    {
     "data": {
      "text/plain": [
       "[<matplotlib.lines.Line2D at 0x17f227babe0>]"
      ]
     },
     "execution_count": 164,
     "metadata": {},
     "output_type": "execute_result"
    },
    {
     "data": {
      "image/png": "[encoded data removed]",
      "text/plain": [
       "<Figure size 432x288 with 1 Axes>"
      ]
     },
     "metadata": {
      "needs_background": "light"
     },
     "output_type": "display_data"
    }
   ],
   "source": [
    "plt.plot(n_feat, cond_durs)"
   ]
  },
  {
   "cell_type": "code",
   "execution_count": 179,
   "metadata": {},
   "outputs": [
    {
     "data": {
      "text/plain": [
       "Text(0.5, 1.0, 'Sampling time [sec] per 1k samples')"
      ]
     },
     "execution_count": 179,
     "metadata": {},
     "output_type": "execute_result"
    },
    {
     "data": {
      "image/png": "[encoded data removed]",
      "text/plain": [
       "<Figure size 432x288 with 1 Axes>"
      ]
     },
     "metadata": {
      "needs_background": "light"
     },
     "output_type": "display_data"
    }
   ],
   "source": [
    "plt.plot(n_feat, cond_durs, n_feat, gibbs_durs)\n",
    "plt.xlabel(\"Number of features\")\n",
    "plt.ylabel(\"Sec per 1k samples\")\n",
    "plt.legend([\"COND\", \"GIB-1\"])\n",
    "plt.title(\"Sampling time [sec] per 1k samples\")"
   ]
  },
  {
   "cell_type": "markdown",
   "metadata": {},
   "source": [
    "### Training the PL conditionals estimator\n",
    "`CondEncoder` represents the self-attention-based encoder and is trained by minimized the negative log-likelihood of the conditionals. Each conditional is paramterized as a mixture of Gaussians."
   ]
  },
  {
   "cell_type": "code",
   "execution_count": 86,
   "metadata": {},
   "outputs": [],
   "source": [
    "#cond_enc = CondEncoder(epochs=2000)"
   ]
  },
  {
   "cell_type": "code",
   "execution_count": 87,
   "metadata": {},
   "outputs": [],
   "source": [
    "#cond_enc.fit(train_loader)"
   ]
  },
  {
   "cell_type": "code",
   "execution_count": 88,
   "metadata": {},
   "outputs": [],
   "source": [
    "model_path = Path(r\"C:\\Users\\orrav\\Documents\\Github\\augmented-distillation\\ck\\adults_income\\adults_income_features.pt\")\n",
    "cond_enc = torch.load(model_path)"
   ]
  },
  {
   "cell_type": "markdown",
   "metadata": {},
   "source": [
    "### Sampling"
   ]
  },
  {
   "cell_type": "code",
   "execution_count": 89,
   "metadata": {},
   "outputs": [],
   "source": [
    "def inverse_transform_samples(df, scaler, categorical_features, label_encoders):\n",
    "    aug_samples_df = pd.DataFrame(scaler.inverse_transform(df), columns=df.columns).astype(np.int64)\n",
    "    # clip negative values\n",
    "    aug_samples_df[aug_samples_df < 0] = 0\n",
    "    for j, feature in enumerate(categorical_features):\n",
    "        # clip out-of-category values\n",
    "        len_cls = len(list(label_encoders[j].classes_))\n",
    "        aug_samples_df.loc[aug_samples_df[feature] >= len_cls, feature] = len_cls - 1\n",
    "        aug_samples_df.loc[:, feature] = label_encoders[j].inverse_transform(aug_samples_df[feature])\n",
    "    return aug_samples_df\n",
    "\n",
    "def transform_samples(df, categorical_features, label_encoders):\n",
    "    dff = df.copy()\n",
    "    # encode object features to categorical integers\n",
    "    for j, feature in enumerate(categorical_features):\n",
    "        dff.loc[:, feature] = label_encoders[j].transform(dff[feature])\n",
    "    # fit a new scaler\n",
    "    scaler = StandardScaler()\n",
    "    aug_samples_df = pd.DataFrame(scaler.fit_transform(dff), columns=dff.columns)\n",
    "    return aug_samples_df"
   ]
  },
  {
   "cell_type": "markdown",
   "metadata": {},
   "source": [
    "#### Gibbs sampling\n",
    "A practical challenge of the Gibbs sampler is that it's sensitive to initialization. Here, we initialize the sampler with original samples from the training set. Notice that `num_iter` should be multiplied by the size of the original training set. Meaning, `num_iter=5` and `len(pX_train)=1000` will generate 5k samples that can be used for distillation. In addition, one-round of Gibbs sampling is examined, based on the paper's results."
   ]
  },
  {
   "cell_type": "code",
   "execution_count": 90,
   "metadata": {},
   "outputs": [],
   "source": [
    "aug_samples = cond_enc.sample_gibbs(train_loader, rounds=1, num_iter=5)"
   ]
  },
  {
   "cell_type": "code",
   "execution_count": 91,
   "metadata": {},
   "outputs": [
    {
     "data": {
      "text/html": [
       "<div>\n",
       "<style scoped>\n",
       "    .dataframe tbody tr th:only-of-type {\n",
       "        vertical-align: middle;\n",
       "    }\n",
       "\n",
       "    .dataframe tbody tr th {\n",
       "        vertical-align: top;\n",
       "    }\n",
       "\n",
       "    .dataframe thead th {\n",
       "        text-align: right;\n",
       "    }\n",
       "</style>\n",
       "<table border=\"1\" class=\"dataframe\">\n",
       "  <thead>\n",
       "    <tr style=\"text-align: right;\">\n",
       "      <th></th>\n",
       "      <th>age</th>\n",
       "      <th>workclass</th>\n",
       "      <th>fnlwgt</th>\n",
       "      <th>education</th>\n",
       "      <th>education.num</th>\n",
       "      <th>marital.status</th>\n",
       "      <th>occupation</th>\n",
       "      <th>relationship</th>\n",
       "      <th>race</th>\n",
       "      <th>sex</th>\n",
       "      <th>capital.gain</th>\n",
       "      <th>capital.loss</th>\n",
       "      <th>hours.per.week</th>\n",
       "      <th>native.country</th>\n",
       "    </tr>\n",
       "  </thead>\n",
       "  <tbody>\n",
       "    <tr>\n",
       "      <th>0</th>\n",
       "      <td>32</td>\n",
       "      <td>Private</td>\n",
       "      <td>184799</td>\n",
       "      <td>Assoc-voc</td>\n",
       "      <td>10</td>\n",
       "      <td>Divorced</td>\n",
       "      <td>Prof-specialty</td>\n",
       "      <td>Not-in-family</td>\n",
       "      <td>Other</td>\n",
       "      <td>Female</td>\n",
       "      <td>36</td>\n",
       "      <td>0</td>\n",
       "      <td>15</td>\n",
       "      <td>United-States</td>\n",
       "    </tr>\n",
       "    <tr>\n",
       "      <th>1</th>\n",
       "      <td>70</td>\n",
       "      <td>Never-worked</td>\n",
       "      <td>346833</td>\n",
       "      <td>Doctorate</td>\n",
       "      <td>8</td>\n",
       "      <td>Married-civ-spouse</td>\n",
       "      <td>Machine-op-inspct</td>\n",
       "      <td>Unmarried</td>\n",
       "      <td>Other</td>\n",
       "      <td>Male</td>\n",
       "      <td>2</td>\n",
       "      <td>1</td>\n",
       "      <td>40</td>\n",
       "      <td>United-States</td>\n",
       "    </tr>\n",
       "    <tr>\n",
       "      <th>2</th>\n",
       "      <td>51</td>\n",
       "      <td>Private</td>\n",
       "      <td>207694</td>\n",
       "      <td>HS-grad</td>\n",
       "      <td>8</td>\n",
       "      <td>Married-AF-spouse</td>\n",
       "      <td>Craft-repair</td>\n",
       "      <td>Husband</td>\n",
       "      <td>Black</td>\n",
       "      <td>Male</td>\n",
       "      <td>0</td>\n",
       "      <td>0</td>\n",
       "      <td>43</td>\n",
       "      <td>Trinadad&amp;Tobago</td>\n",
       "    </tr>\n",
       "    <tr>\n",
       "      <th>3</th>\n",
       "      <td>35</td>\n",
       "      <td>Federal-gov</td>\n",
       "      <td>179927</td>\n",
       "      <td>Prof-school</td>\n",
       "      <td>10</td>\n",
       "      <td>Married-civ-spouse</td>\n",
       "      <td>Craft-repair</td>\n",
       "      <td>Husband</td>\n",
       "      <td>Asian-Pac-Islander</td>\n",
       "      <td>Male</td>\n",
       "      <td>6026</td>\n",
       "      <td>0</td>\n",
       "      <td>40</td>\n",
       "      <td>United-States</td>\n",
       "    </tr>\n",
       "    <tr>\n",
       "      <th>4</th>\n",
       "      <td>54</td>\n",
       "      <td>Self-emp-inc</td>\n",
       "      <td>89845</td>\n",
       "      <td>Doctorate</td>\n",
       "      <td>8</td>\n",
       "      <td>Married-civ-spouse</td>\n",
       "      <td>Craft-repair</td>\n",
       "      <td>Husband</td>\n",
       "      <td>Other</td>\n",
       "      <td>Male</td>\n",
       "      <td>0</td>\n",
       "      <td>0</td>\n",
       "      <td>40</td>\n",
       "      <td>United-States</td>\n",
       "    </tr>\n",
       "  </tbody>\n",
       "</table>\n",
       "</div>"
      ],
      "text/plain": [
       "   age     workclass  fnlwgt    education  education.num      marital.status  \\\n",
       "0   32       Private  184799    Assoc-voc             10            Divorced   \n",
       "1   70  Never-worked  346833    Doctorate              8  Married-civ-spouse   \n",
       "2   51       Private  207694      HS-grad              8   Married-AF-spouse   \n",
       "3   35   Federal-gov  179927  Prof-school             10  Married-civ-spouse   \n",
       "4   54  Self-emp-inc   89845    Doctorate              8  Married-civ-spouse   \n",
       "\n",
       "          occupation   relationship                race     sex  capital.gain  \\\n",
       "0     Prof-specialty  Not-in-family               Other  Female            36   \n",
       "1  Machine-op-inspct      Unmarried               Other    Male             2   \n",
       "2       Craft-repair        Husband               Black    Male             0   \n",
       "3       Craft-repair        Husband  Asian-Pac-Islander    Male          6026   \n",
       "4       Craft-repair        Husband               Other    Male             0   \n",
       "\n",
       "   capital.loss  hours.per.week   native.country  \n",
       "0             0              15    United-States  \n",
       "1             1              40    United-States  \n",
       "2             0              43  Trinadad&Tobago  \n",
       "3             0              40    United-States  \n",
       "4             0              40    United-States  "
      ]
     },
     "execution_count": 91,
     "metadata": {},
     "output_type": "execute_result"
    }
   ],
   "source": [
    "aug_samples_df = pd.DataFrame(aug_samples, columns=X.columns)\n",
    "gibbs_df = inverse_transform_samples(aug_samples_df, scaler, categorical, label_encoders)\n",
    "gibbs_df.head()"
   ]
  },
  {
   "cell_type": "markdown",
   "metadata": {},
   "source": [
    "#### Conditionals sampling"
   ]
  },
  {
   "cell_type": "code",
   "execution_count": 92,
   "metadata": {},
   "outputs": [],
   "source": [
    "aug_cond_samples = cond_enc.sample_conditionals(train_loader, num_iter=5)"
   ]
  },
  {
   "cell_type": "code",
   "execution_count": 93,
   "metadata": {},
   "outputs": [
    {
     "data": {
      "text/html": [
       "<div>\n",
       "<style scoped>\n",
       "    .dataframe tbody tr th:only-of-type {\n",
       "        vertical-align: middle;\n",
       "    }\n",
       "\n",
       "    .dataframe tbody tr th {\n",
       "        vertical-align: top;\n",
       "    }\n",
       "\n",
       "    .dataframe thead th {\n",
       "        text-align: right;\n",
       "    }\n",
       "</style>\n",
       "<table border=\"1\" class=\"dataframe\">\n",
       "  <thead>\n",
       "    <tr style=\"text-align: right;\">\n",
       "      <th></th>\n",
       "      <th>age</th>\n",
       "      <th>workclass</th>\n",
       "      <th>fnlwgt</th>\n",
       "      <th>education</th>\n",
       "      <th>education.num</th>\n",
       "      <th>marital.status</th>\n",
       "      <th>occupation</th>\n",
       "      <th>relationship</th>\n",
       "      <th>race</th>\n",
       "      <th>sex</th>\n",
       "      <th>capital.gain</th>\n",
       "      <th>capital.loss</th>\n",
       "      <th>hours.per.week</th>\n",
       "      <th>native.country</th>\n",
       "    </tr>\n",
       "  </thead>\n",
       "  <tbody>\n",
       "    <tr>\n",
       "      <th>0</th>\n",
       "      <td>19</td>\n",
       "      <td>Local-gov</td>\n",
       "      <td>174713</td>\n",
       "      <td>Prof-school</td>\n",
       "      <td>9</td>\n",
       "      <td>Never-married</td>\n",
       "      <td>Prof-specialty</td>\n",
       "      <td>Other-relative</td>\n",
       "      <td>Other</td>\n",
       "      <td>Female</td>\n",
       "      <td>0</td>\n",
       "      <td>0</td>\n",
       "      <td>15</td>\n",
       "      <td>United-States</td>\n",
       "    </tr>\n",
       "    <tr>\n",
       "      <th>1</th>\n",
       "      <td>43</td>\n",
       "      <td>Self-emp-not-inc</td>\n",
       "      <td>54310</td>\n",
       "      <td>HS-grad</td>\n",
       "      <td>14</td>\n",
       "      <td>Married-AF-spouse</td>\n",
       "      <td>Prof-specialty</td>\n",
       "      <td>Husband</td>\n",
       "      <td>Other</td>\n",
       "      <td>Female</td>\n",
       "      <td>7298</td>\n",
       "      <td>0</td>\n",
       "      <td>40</td>\n",
       "      <td>United-States</td>\n",
       "    </tr>\n",
       "    <tr>\n",
       "      <th>2</th>\n",
       "      <td>28</td>\n",
       "      <td>Private</td>\n",
       "      <td>111900</td>\n",
       "      <td>9th</td>\n",
       "      <td>12</td>\n",
       "      <td>Married-AF-spouse</td>\n",
       "      <td>Protective-serv</td>\n",
       "      <td>Husband</td>\n",
       "      <td>Other</td>\n",
       "      <td>Female</td>\n",
       "      <td>0</td>\n",
       "      <td>0</td>\n",
       "      <td>29</td>\n",
       "      <td>United-States</td>\n",
       "    </tr>\n",
       "    <tr>\n",
       "      <th>3</th>\n",
       "      <td>19</td>\n",
       "      <td>Private</td>\n",
       "      <td>435469</td>\n",
       "      <td>HS-grad</td>\n",
       "      <td>9</td>\n",
       "      <td>Never-married</td>\n",
       "      <td>Other-service</td>\n",
       "      <td>Other-relative</td>\n",
       "      <td>Other</td>\n",
       "      <td>Female</td>\n",
       "      <td>0</td>\n",
       "      <td>0</td>\n",
       "      <td>40</td>\n",
       "      <td>Laos</td>\n",
       "    </tr>\n",
       "    <tr>\n",
       "      <th>4</th>\n",
       "      <td>69</td>\n",
       "      <td>Self-emp-not-inc</td>\n",
       "      <td>237065</td>\n",
       "      <td>5th-6th</td>\n",
       "      <td>3</td>\n",
       "      <td>Separated</td>\n",
       "      <td>Other-service</td>\n",
       "      <td>Other-relative</td>\n",
       "      <td>Other</td>\n",
       "      <td>Female</td>\n",
       "      <td>2345</td>\n",
       "      <td>0</td>\n",
       "      <td>40</td>\n",
       "      <td>United-States</td>\n",
       "    </tr>\n",
       "  </tbody>\n",
       "</table>\n",
       "</div>"
      ],
      "text/plain": [
       "   age         workclass  fnlwgt    education  education.num  \\\n",
       "0   19         Local-gov  174713  Prof-school              9   \n",
       "1   43  Self-emp-not-inc   54310      HS-grad             14   \n",
       "2   28           Private  111900          9th             12   \n",
       "3   19           Private  435469      HS-grad              9   \n",
       "4   69  Self-emp-not-inc  237065      5th-6th              3   \n",
       "\n",
       "      marital.status       occupation    relationship   race     sex  \\\n",
       "0      Never-married   Prof-specialty  Other-relative  Other  Female   \n",
       "1  Married-AF-spouse   Prof-specialty         Husband  Other  Female   \n",
       "2  Married-AF-spouse  Protective-serv         Husband  Other  Female   \n",
       "3      Never-married    Other-service  Other-relative  Other  Female   \n",
       "4          Separated    Other-service  Other-relative  Other  Female   \n",
       "\n",
       "   capital.gain  capital.loss  hours.per.week native.country  \n",
       "0             0             0              15  United-States  \n",
       "1          7298             0              40  United-States  \n",
       "2             0             0              29  United-States  \n",
       "3             0             0              40           Laos  \n",
       "4          2345             0              40  United-States  "
      ]
     },
     "execution_count": 93,
     "metadata": {},
     "output_type": "execute_result"
    }
   ],
   "source": [
    "aug_cond_samples_df = pd.DataFrame(aug_cond_samples, columns=X.columns)\n",
    "cond_df = inverse_transform_samples(aug_cond_samples_df, scaler, categorical, label_encoders)\n",
    "cond_df.head()"
   ]
  },
  {
   "cell_type": "markdown",
   "metadata": {},
   "source": [
    "### Augmented Distillation"
   ]
  },
  {
   "cell_type": "markdown",
   "metadata": {},
   "source": [
    "First, process the sampled data for distillation in a similar manner to the pre-processing of the original training set. Then, Predict labels by the teacher model. The assumption here is that the teacher's accuracy is very high so we can actually count on it for labeling."
   ]
  },
  {
   "cell_type": "code",
   "execution_count": 94,
   "metadata": {},
   "outputs": [],
   "source": [
    "from sklearn.ensemble import RandomForestRegressor"
   ]
  },
  {
   "cell_type": "code",
   "execution_count": 95,
   "metadata": {},
   "outputs": [],
   "source": [
    "def predict_soft_labels(df, categorical, label_encoders, teacher):\n",
    "    dff = transform_samples(df, categorical, label_encoders)\n",
    "    teacher_preds = teacher.predict_proba(dff)\n",
    "    teacher_preds_np = teacher_preds.iloc[:, 1].to_numpy()\n",
    "    df_aug_teacher_preds = dff.copy()\n",
    "    df_aug_teacher_preds[label] = teacher_preds_np\n",
    "    return df_aug_teacher_preds"
   ]
  },
  {
   "cell_type": "markdown",
   "metadata": {},
   "source": [
    "#### Distillation via Gibbs-sampled augmented data"
   ]
  },
  {
   "cell_type": "code",
   "execution_count": 96,
   "metadata": {},
   "outputs": [
    {
     "data": {
      "text/html": [
       "<div>\n",
       "<style scoped>\n",
       "    .dataframe tbody tr th:only-of-type {\n",
       "        vertical-align: middle;\n",
       "    }\n",
       "\n",
       "    .dataframe tbody tr th {\n",
       "        vertical-align: top;\n",
       "    }\n",
       "\n",
       "    .dataframe thead th {\n",
       "        text-align: right;\n",
       "    }\n",
       "</style>\n",
       "<table border=\"1\" class=\"dataframe\">\n",
       "  <thead>\n",
       "    <tr style=\"text-align: right;\">\n",
       "      <th></th>\n",
       "      <th>age</th>\n",
       "      <th>workclass</th>\n",
       "      <th>fnlwgt</th>\n",
       "      <th>education</th>\n",
       "      <th>education.num</th>\n",
       "      <th>marital.status</th>\n",
       "      <th>occupation</th>\n",
       "      <th>relationship</th>\n",
       "      <th>race</th>\n",
       "      <th>sex</th>\n",
       "      <th>capital.gain</th>\n",
       "      <th>capital.loss</th>\n",
       "      <th>hours.per.week</th>\n",
       "      <th>native.country</th>\n",
       "      <th>income</th>\n",
       "    </tr>\n",
       "  </thead>\n",
       "  <tbody>\n",
       "    <tr>\n",
       "      <th>0</th>\n",
       "      <td>-0.437442</td>\n",
       "      <td>0.556509</td>\n",
       "      <td>-0.067242</td>\n",
       "      <td>-0.410466</td>\n",
       "      <td>0.141709</td>\n",
       "      <td>-1.838100</td>\n",
       "      <td>0.953974</td>\n",
       "      <td>-0.046485</td>\n",
       "      <td>-0.375137</td>\n",
       "      <td>-1.169203</td>\n",
       "      <td>-0.176497</td>\n",
       "      <td>-0.194480</td>\n",
       "      <td>-2.075017</td>\n",
       "      <td>0.330755</td>\n",
       "      <td>0.019015</td>\n",
       "    </tr>\n",
       "    <tr>\n",
       "      <th>1</th>\n",
       "      <td>2.226304</td>\n",
       "      <td>-0.361662</td>\n",
       "      <td>1.473895</td>\n",
       "      <td>0.123984</td>\n",
       "      <td>-0.644573</td>\n",
       "      <td>-0.173449</td>\n",
       "      <td>0.146807</td>\n",
       "      <td>2.426622</td>\n",
       "      <td>-0.375137</td>\n",
       "      <td>0.855283</td>\n",
       "      <td>-0.185716</td>\n",
       "      <td>-0.190975</td>\n",
       "      <td>0.024792</td>\n",
       "      <td>0.330755</td>\n",
       "      <td>0.101407</td>\n",
       "    </tr>\n",
       "    <tr>\n",
       "      <th>2</th>\n",
       "      <td>0.894431</td>\n",
       "      <td>0.556509</td>\n",
       "      <td>0.150517</td>\n",
       "      <td>0.391208</td>\n",
       "      <td>-0.644573</td>\n",
       "      <td>-1.005774</td>\n",
       "      <td>-0.929415</td>\n",
       "      <td>-0.870853</td>\n",
       "      <td>-1.461214</td>\n",
       "      <td>0.855283</td>\n",
       "      <td>-0.186258</td>\n",
       "      <td>-0.194480</td>\n",
       "      <td>0.276769</td>\n",
       "      <td>0.131165</td>\n",
       "      <td>0.272525</td>\n",
       "    </tr>\n",
       "    <tr>\n",
       "      <th>3</th>\n",
       "      <td>-0.227146</td>\n",
       "      <td>-2.198004</td>\n",
       "      <td>-0.113580</td>\n",
       "      <td>1.192882</td>\n",
       "      <td>0.141709</td>\n",
       "      <td>-0.173449</td>\n",
       "      <td>-0.929415</td>\n",
       "      <td>-0.870853</td>\n",
       "      <td>-2.547291</td>\n",
       "      <td>0.855283</td>\n",
       "      <td>1.447631</td>\n",
       "      <td>-0.194480</td>\n",
       "      <td>0.024792</td>\n",
       "      <td>0.330755</td>\n",
       "      <td>0.996745</td>\n",
       "    </tr>\n",
       "    <tr>\n",
       "      <th>4</th>\n",
       "      <td>1.104727</td>\n",
       "      <td>1.474680</td>\n",
       "      <td>-0.970368</td>\n",
       "      <td>0.123984</td>\n",
       "      <td>-0.644573</td>\n",
       "      <td>-0.173449</td>\n",
       "      <td>-0.929415</td>\n",
       "      <td>-0.870853</td>\n",
       "      <td>-0.375137</td>\n",
       "      <td>0.855283</td>\n",
       "      <td>-0.186258</td>\n",
       "      <td>-0.194480</td>\n",
       "      <td>0.024792</td>\n",
       "      <td>0.330755</td>\n",
       "      <td>0.227535</td>\n",
       "    </tr>\n",
       "  </tbody>\n",
       "</table>\n",
       "</div>"
      ],
      "text/plain": [
       "        age  workclass    fnlwgt  education  education.num  marital.status  \\\n",
       "0 -0.437442   0.556509 -0.067242  -0.410466       0.141709       -1.838100   \n",
       "1  2.226304  -0.361662  1.473895   0.123984      -0.644573       -0.173449   \n",
       "2  0.894431   0.556509  0.150517   0.391208      -0.644573       -1.005774   \n",
       "3 -0.227146  -2.198004 -0.113580   1.192882       0.141709       -0.173449   \n",
       "4  1.104727   1.474680 -0.970368   0.123984      -0.644573       -0.173449   \n",
       "\n",
       "   occupation  relationship      race       sex  capital.gain  capital.loss  \\\n",
       "0    0.953974     -0.046485 -0.375137 -1.169203     -0.176497     -0.194480   \n",
       "1    0.146807      2.426622 -0.375137  0.855283     -0.185716     -0.190975   \n",
       "2   -0.929415     -0.870853 -1.461214  0.855283     -0.186258     -0.194480   \n",
       "3   -0.929415     -0.870853 -2.547291  0.855283      1.447631     -0.194480   \n",
       "4   -0.929415     -0.870853 -0.375137  0.855283     -0.186258     -0.194480   \n",
       "\n",
       "   hours.per.week  native.country    income  \n",
       "0       -2.075017        0.330755  0.019015  \n",
       "1        0.024792        0.330755  0.101407  \n",
       "2        0.276769        0.131165  0.272525  \n",
       "3        0.024792        0.330755  0.996745  \n",
       "4        0.024792        0.330755  0.227535  "
      ]
     },
     "execution_count": 96,
     "metadata": {},
     "output_type": "execute_result"
    }
   ],
   "source": [
    "df_aug_gibbs_teacher_preds = predict_soft_labels(gibbs_df, categorical, label_encoders, predictor)\n",
    "df_aug_gibbs_teacher_preds.head()"
   ]
  },
  {
   "cell_type": "markdown",
   "metadata": {},
   "source": [
    "Concatenate the original training set and the augmented samples after being labeled by the teacher model. This forms the new training set for fitting the student model."
   ]
  },
  {
   "cell_type": "code",
   "execution_count": 97,
   "metadata": {},
   "outputs": [
    {
     "name": "stdout",
     "output_type": "stream",
     "text": [
      "Original training set size: 16280\n",
      "Augmeneted training set size: 81400\n"
     ]
    },
    {
     "data": {
      "text/html": [
       "<div>\n",
       "<style scoped>\n",
       "    .dataframe tbody tr th:only-of-type {\n",
       "        vertical-align: middle;\n",
       "    }\n",
       "\n",
       "    .dataframe tbody tr th {\n",
       "        vertical-align: top;\n",
       "    }\n",
       "\n",
       "    .dataframe thead th {\n",
       "        text-align: right;\n",
       "    }\n",
       "</style>\n",
       "<table border=\"1\" class=\"dataframe\">\n",
       "  <thead>\n",
       "    <tr style=\"text-align: right;\">\n",
       "      <th></th>\n",
       "      <th>age</th>\n",
       "      <th>workclass</th>\n",
       "      <th>fnlwgt</th>\n",
       "      <th>education</th>\n",
       "      <th>education.num</th>\n",
       "      <th>marital.status</th>\n",
       "      <th>occupation</th>\n",
       "      <th>relationship</th>\n",
       "      <th>race</th>\n",
       "      <th>sex</th>\n",
       "      <th>capital.gain</th>\n",
       "      <th>capital.loss</th>\n",
       "      <th>hours.per.week</th>\n",
       "      <th>native.country</th>\n",
       "      <th>income</th>\n",
       "    </tr>\n",
       "  </thead>\n",
       "  <tbody>\n",
       "    <tr>\n",
       "      <th>0</th>\n",
       "      <td>-0.437442</td>\n",
       "      <td>0.556509</td>\n",
       "      <td>-0.067242</td>\n",
       "      <td>-0.410466</td>\n",
       "      <td>0.141709</td>\n",
       "      <td>-1.838100</td>\n",
       "      <td>0.953974</td>\n",
       "      <td>-0.046485</td>\n",
       "      <td>-0.375137</td>\n",
       "      <td>-1.169203</td>\n",
       "      <td>-0.176497</td>\n",
       "      <td>-0.194480</td>\n",
       "      <td>-2.075017</td>\n",
       "      <td>0.330755</td>\n",
       "      <td>0.019015</td>\n",
       "    </tr>\n",
       "    <tr>\n",
       "      <th>1</th>\n",
       "      <td>2.226304</td>\n",
       "      <td>-0.361662</td>\n",
       "      <td>1.473895</td>\n",
       "      <td>0.123984</td>\n",
       "      <td>-0.644573</td>\n",
       "      <td>-0.173449</td>\n",
       "      <td>0.146807</td>\n",
       "      <td>2.426622</td>\n",
       "      <td>-0.375137</td>\n",
       "      <td>0.855283</td>\n",
       "      <td>-0.185716</td>\n",
       "      <td>-0.190975</td>\n",
       "      <td>0.024792</td>\n",
       "      <td>0.330755</td>\n",
       "      <td>0.101407</td>\n",
       "    </tr>\n",
       "    <tr>\n",
       "      <th>2</th>\n",
       "      <td>0.894431</td>\n",
       "      <td>0.556509</td>\n",
       "      <td>0.150517</td>\n",
       "      <td>0.391208</td>\n",
       "      <td>-0.644573</td>\n",
       "      <td>-1.005774</td>\n",
       "      <td>-0.929415</td>\n",
       "      <td>-0.870853</td>\n",
       "      <td>-1.461214</td>\n",
       "      <td>0.855283</td>\n",
       "      <td>-0.186258</td>\n",
       "      <td>-0.194480</td>\n",
       "      <td>0.276769</td>\n",
       "      <td>0.131165</td>\n",
       "      <td>0.272525</td>\n",
       "    </tr>\n",
       "    <tr>\n",
       "      <th>3</th>\n",
       "      <td>-0.227146</td>\n",
       "      <td>-2.198004</td>\n",
       "      <td>-0.113580</td>\n",
       "      <td>1.192882</td>\n",
       "      <td>0.141709</td>\n",
       "      <td>-0.173449</td>\n",
       "      <td>-0.929415</td>\n",
       "      <td>-0.870853</td>\n",
       "      <td>-2.547291</td>\n",
       "      <td>0.855283</td>\n",
       "      <td>1.447631</td>\n",
       "      <td>-0.194480</td>\n",
       "      <td>0.024792</td>\n",
       "      <td>0.330755</td>\n",
       "      <td>0.996745</td>\n",
       "    </tr>\n",
       "    <tr>\n",
       "      <th>4</th>\n",
       "      <td>1.104727</td>\n",
       "      <td>1.474680</td>\n",
       "      <td>-0.970368</td>\n",
       "      <td>0.123984</td>\n",
       "      <td>-0.644573</td>\n",
       "      <td>-0.173449</td>\n",
       "      <td>-0.929415</td>\n",
       "      <td>-0.870853</td>\n",
       "      <td>-0.375137</td>\n",
       "      <td>0.855283</td>\n",
       "      <td>-0.186258</td>\n",
       "      <td>-0.194480</td>\n",
       "      <td>0.024792</td>\n",
       "      <td>0.330755</td>\n",
       "      <td>0.227535</td>\n",
       "    </tr>\n",
       "  </tbody>\n",
       "</table>\n",
       "</div>"
      ],
      "text/plain": [
       "        age  workclass    fnlwgt  education  education.num  marital.status  \\\n",
       "0 -0.437442   0.556509 -0.067242  -0.410466       0.141709       -1.838100   \n",
       "1  2.226304  -0.361662  1.473895   0.123984      -0.644573       -0.173449   \n",
       "2  0.894431   0.556509  0.150517   0.391208      -0.644573       -1.005774   \n",
       "3 -0.227146  -2.198004 -0.113580   1.192882       0.141709       -0.173449   \n",
       "4  1.104727   1.474680 -0.970368   0.123984      -0.644573       -0.173449   \n",
       "\n",
       "   occupation  relationship      race       sex  capital.gain  capital.loss  \\\n",
       "0    0.953974     -0.046485 -0.375137 -1.169203     -0.176497     -0.194480   \n",
       "1    0.146807      2.426622 -0.375137  0.855283     -0.185716     -0.190975   \n",
       "2   -0.929415     -0.870853 -1.461214  0.855283     -0.186258     -0.194480   \n",
       "3   -0.929415     -0.870853 -2.547291  0.855283      1.447631     -0.194480   \n",
       "4   -0.929415     -0.870853 -0.375137  0.855283     -0.186258     -0.194480   \n",
       "\n",
       "   hours.per.week  native.country    income  \n",
       "0       -2.075017        0.330755  0.019015  \n",
       "1        0.024792        0.330755  0.101407  \n",
       "2        0.276769        0.131165  0.272525  \n",
       "3        0.024792        0.330755  0.996745  \n",
       "4        0.024792        0.330755  0.227535  "
      ]
     },
     "execution_count": 97,
     "metadata": {},
     "output_type": "execute_result"
    }
   ],
   "source": [
    "print(f\"Original training set size: {len(df_train)}\\nAugmeneted training set size: {len(df_aug_gibbs_teacher_preds)}\")\n",
    "df_aug = pd.concat([df_aug_gibbs_teacher_preds, df_train])\n",
    "df_aug.head()"
   ]
  },
  {
   "cell_type": "code",
   "execution_count": 98,
   "metadata": {},
   "outputs": [],
   "source": [
    "X_aug = df_aug.drop([label], axis=1)\n",
    "y_aug = df_aug[label]"
   ]
  },
  {
   "cell_type": "code",
   "execution_count": 99,
   "metadata": {},
   "outputs": [
    {
     "data": {
      "text/plain": [
       "RandomForestRegressor(random_state=0)"
      ]
     },
     "execution_count": 99,
     "metadata": {},
     "output_type": "execute_result"
    }
   ],
   "source": [
    "clf = RandomForestRegressor(random_state=0)\n",
    "clf.fit(X_aug, y_aug)"
   ]
  },
  {
   "cell_type": "code",
   "execution_count": 100,
   "metadata": {},
   "outputs": [
    {
     "name": "stdout",
     "output_type": "stream",
     "text": [
      "[0. 0. 0. ... 0. 1. 0.]\n"
     ]
    }
   ],
   "source": [
    "test_probas = clf.predict(pX_test)\n",
    "test_preds = np.round(test_probas)\n",
    "print(test_preds)"
   ]
  },
  {
   "cell_type": "code",
   "execution_count": 101,
   "metadata": {},
   "outputs": [
    {
     "data": {
      "text/plain": [
       "0.7801068483373936"
      ]
     },
     "execution_count": 101,
     "metadata": {},
     "output_type": "execute_result"
    }
   ],
   "source": [
    "f1_score(y_test, test_preds, average='macro')"
   ]
  },
  {
   "cell_type": "code",
   "execution_count": 102,
   "metadata": {},
   "outputs": [
    {
     "data": {
      "text/plain": [
       "0.8945192987423362"
      ]
     },
     "execution_count": 102,
     "metadata": {},
     "output_type": "execute_result"
    }
   ],
   "source": [
    "roc_auc_score(y_test, test_probas)"
   ]
  },
  {
   "cell_type": "markdown",
   "metadata": {},
   "source": [
    "#### Distillation via Conditinals-sampled data"
   ]
  },
  {
   "cell_type": "code",
   "execution_count": 103,
   "metadata": {},
   "outputs": [],
   "source": [
    "df_aug_cond_teacher_preds = predict_soft_labels(cond_df, categorical, label_encoders, predictor)"
   ]
  },
  {
   "cell_type": "code",
   "execution_count": 104,
   "metadata": {},
   "outputs": [
    {
     "name": "stdout",
     "output_type": "stream",
     "text": [
      "Original training set size: 16280\n",
      "Augmeneted training set size: 81400\n"
     ]
    },
    {
     "data": {
      "text/html": [
       "<div>\n",
       "<style scoped>\n",
       "    .dataframe tbody tr th:only-of-type {\n",
       "        vertical-align: middle;\n",
       "    }\n",
       "\n",
       "    .dataframe tbody tr th {\n",
       "        vertical-align: top;\n",
       "    }\n",
       "\n",
       "    .dataframe thead th {\n",
       "        text-align: right;\n",
       "    }\n",
       "</style>\n",
       "<table border=\"1\" class=\"dataframe\">\n",
       "  <thead>\n",
       "    <tr style=\"text-align: right;\">\n",
       "      <th></th>\n",
       "      <th>age</th>\n",
       "      <th>workclass</th>\n",
       "      <th>fnlwgt</th>\n",
       "      <th>education</th>\n",
       "      <th>education.num</th>\n",
       "      <th>marital.status</th>\n",
       "      <th>occupation</th>\n",
       "      <th>relationship</th>\n",
       "      <th>race</th>\n",
       "      <th>sex</th>\n",
       "      <th>capital.gain</th>\n",
       "      <th>capital.loss</th>\n",
       "      <th>hours.per.week</th>\n",
       "      <th>native.country</th>\n",
       "      <th>income</th>\n",
       "    </tr>\n",
       "  </thead>\n",
       "  <tbody>\n",
       "    <tr>\n",
       "      <th>0</th>\n",
       "      <td>-1.393038</td>\n",
       "      <td>-1.280497</td>\n",
       "      <td>-0.137932</td>\n",
       "      <td>1.117281</td>\n",
       "      <td>-0.223988</td>\n",
       "      <td>1.156108</td>\n",
       "      <td>0.855864</td>\n",
       "      <td>0.751198</td>\n",
       "      <td>0.399164</td>\n",
       "      <td>0.0</td>\n",
       "      <td>-0.144256</td>\n",
       "      <td>-0.217062</td>\n",
       "      <td>-2.045828</td>\n",
       "      <td>0.263627</td>\n",
       "      <td>0.000729</td>\n",
       "    </tr>\n",
       "    <tr>\n",
       "      <th>1</th>\n",
       "      <td>0.357224</td>\n",
       "      <td>2.392699</td>\n",
       "      <td>-1.276351</td>\n",
       "      <td>0.332852</td>\n",
       "      <td>1.805464</td>\n",
       "      <td>-0.662564</td>\n",
       "      <td>0.855864</td>\n",
       "      <td>-0.651992</td>\n",
       "      <td>0.399164</td>\n",
       "      <td>0.0</td>\n",
       "      <td>0.870768</td>\n",
       "      <td>-0.217062</td>\n",
       "      <td>-0.019171</td>\n",
       "      <td>0.263627</td>\n",
       "      <td>0.987352</td>\n",
       "    </tr>\n",
       "    <tr>\n",
       "      <th>2</th>\n",
       "      <td>-0.736690</td>\n",
       "      <td>0.556101</td>\n",
       "      <td>-0.731834</td>\n",
       "      <td>-0.974529</td>\n",
       "      <td>0.993683</td>\n",
       "      <td>-0.662564</td>\n",
       "      <td>1.103020</td>\n",
       "      <td>-0.651992</td>\n",
       "      <td>0.399164</td>\n",
       "      <td>0.0</td>\n",
       "      <td>-0.144256</td>\n",
       "      <td>-0.217062</td>\n",
       "      <td>-0.910900</td>\n",
       "      <td>0.263627</td>\n",
       "      <td>0.249488</td>\n",
       "    </tr>\n",
       "    <tr>\n",
       "      <th>3</th>\n",
       "      <td>-1.393038</td>\n",
       "      <td>0.556101</td>\n",
       "      <td>2.327533</td>\n",
       "      <td>0.332852</td>\n",
       "      <td>-0.223988</td>\n",
       "      <td>1.156108</td>\n",
       "      <td>0.361550</td>\n",
       "      <td>0.751198</td>\n",
       "      <td>0.399164</td>\n",
       "      <td>0.0</td>\n",
       "      <td>-0.144256</td>\n",
       "      <td>-0.217062</td>\n",
       "      <td>-0.019171</td>\n",
       "      <td>-1.999662</td>\n",
       "      <td>0.000985</td>\n",
       "    </tr>\n",
       "    <tr>\n",
       "      <th>4</th>\n",
       "      <td>2.253342</td>\n",
       "      <td>2.392699</td>\n",
       "      <td>0.451610</td>\n",
       "      <td>-1.497481</td>\n",
       "      <td>-2.659329</td>\n",
       "      <td>1.762332</td>\n",
       "      <td>0.361550</td>\n",
       "      <td>0.751198</td>\n",
       "      <td>0.399164</td>\n",
       "      <td>0.0</td>\n",
       "      <td>0.181892</td>\n",
       "      <td>-0.217062</td>\n",
       "      <td>-0.019171</td>\n",
       "      <td>0.263627</td>\n",
       "      <td>0.002028</td>\n",
       "    </tr>\n",
       "  </tbody>\n",
       "</table>\n",
       "</div>"
      ],
      "text/plain": [
       "        age  workclass    fnlwgt  education  education.num  marital.status  \\\n",
       "0 -1.393038  -1.280497 -0.137932   1.117281      -0.223988        1.156108   \n",
       "1  0.357224   2.392699 -1.276351   0.332852       1.805464       -0.662564   \n",
       "2 -0.736690   0.556101 -0.731834  -0.974529       0.993683       -0.662564   \n",
       "3 -1.393038   0.556101  2.327533   0.332852      -0.223988        1.156108   \n",
       "4  2.253342   2.392699  0.451610  -1.497481      -2.659329        1.762332   \n",
       "\n",
       "   occupation  relationship      race  sex  capital.gain  capital.loss  \\\n",
       "0    0.855864      0.751198  0.399164  0.0     -0.144256     -0.217062   \n",
       "1    0.855864     -0.651992  0.399164  0.0      0.870768     -0.217062   \n",
       "2    1.103020     -0.651992  0.399164  0.0     -0.144256     -0.217062   \n",
       "3    0.361550      0.751198  0.399164  0.0     -0.144256     -0.217062   \n",
       "4    0.361550      0.751198  0.399164  0.0      0.181892     -0.217062   \n",
       "\n",
       "   hours.per.week  native.country    income  \n",
       "0       -2.045828        0.263627  0.000729  \n",
       "1       -0.019171        0.263627  0.987352  \n",
       "2       -0.910900        0.263627  0.249488  \n",
       "3       -0.019171       -1.999662  0.000985  \n",
       "4       -0.019171        0.263627  0.002028  "
      ]
     },
     "execution_count": 104,
     "metadata": {},
     "output_type": "execute_result"
    }
   ],
   "source": [
    "print(f\"Original training set size: {len(df_train)}\\nAugmeneted training set size: {len(df_aug_cond_teacher_preds)}\")\n",
    "df_aug = pd.concat([df_aug_cond_teacher_preds, df_train])\n",
    "df_aug.head()"
   ]
  },
  {
   "cell_type": "code",
   "execution_count": 105,
   "metadata": {},
   "outputs": [],
   "source": [
    "X_aug = df_aug.drop([label], axis=1)\n",
    "y_aug = df_aug[label]\n",
    "\n",
    "clf = RandomForestRegressor(random_state=0)\n",
    "clf.fit(X_aug, y_aug)\n",
    "\n",
    "test_probas = clf.predict(pX_test)\n",
    "test_preds = np.round(test_probas)"
   ]
  },
  {
   "cell_type": "code",
   "execution_count": 106,
   "metadata": {},
   "outputs": [
    {
     "data": {
      "text/plain": [
       "0.784254396879468"
      ]
     },
     "execution_count": 106,
     "metadata": {},
     "output_type": "execute_result"
    }
   ],
   "source": [
    "f1_score(y_test, test_preds, average='macro')"
   ]
  },
  {
   "cell_type": "code",
   "execution_count": 107,
   "metadata": {},
   "outputs": [
    {
     "data": {
      "text/plain": [
       "0.894805259110364"
      ]
     },
     "execution_count": 107,
     "metadata": {},
     "output_type": "execute_result"
    }
   ],
   "source": [
    "roc_auc_score(y_test, test_probas)"
   ]
  },
  {
   "cell_type": "markdown",
   "metadata": {},
   "source": [
    "### Student with Teacher + Split Conformal"
   ]
  },
  {
   "cell_type": "code",
   "execution_count": 108,
   "metadata": {},
   "outputs": [],
   "source": [
    "from arc.methods import SplitConformal\n",
    "from arc.black_boxes import TabularAutoML"
   ]
  },
  {
   "cell_type": "code",
   "execution_count": 109,
   "metadata": {},
   "outputs": [],
   "source": [
    "def filter_by_prediction_sets(method, df, label):\n",
    "    x = df.drop([label], axis=1)\n",
    "    y = df[label]\n",
    "    \n",
    "    s_sc = method.predict(x)\n",
    "    # given the binary classification case, we keep only prediction sets that include exactely one prediction.\n",
    "    filt_sc = [(xx, s_sc[i][0], y[i]) for i, xx in enumerate(x.to_numpy()) if len(s_sc[i]) == 1]\n",
    "    x_sc, hard_y_sc, soft_y_sc = zip(*filt_sc)\n",
    "    sc_df = pd.DataFrame(x_sc, columns=x.columns)\n",
    "    sc_df[label] = soft_y_sc\n",
    "    return sc_df"
   ]
  },
  {
   "cell_type": "code",
   "execution_count": 110,
   "metadata": {},
   "outputs": [
    {
     "name": "stderr",
     "output_type": "stream",
     "text": [
      "No path specified. Models will be saved in: \"AutogluonModels/ag-20210730_160822\\\"\n",
      "Presets specified: ['best_quality']\n",
      "Beginning AutoGluon training ... Time limit = 60s\n",
      "AutoGluon will save models to \"AutogluonModels/ag-20210730_160822\\\"\n",
      "AutoGluon Version:  0.2.0\n",
      "Train Data Rows:    8140\n",
      "Train Data Columns: 14\n",
      "Preprocessing data ...\n",
      "AutoGluon infers your prediction problem is: 'binary' (because only two unique label-values observed).\n",
      "\t2 unique label values:  [0, 1]\n",
      "\tIf 'binary' is not the correct problem_type, please manually specify the problem_type argument in fit() (You may specify problem_type as one of: ['binary', 'multiclass', 'regression'])\n",
      "Selected class <--> label mapping:  class 1 = 1, class 0 = 0\n",
      "Using Feature Generators to preprocess the data ...\n",
      "Fitting AutoMLPipelineFeatureGenerator...\n",
      "\tAvailable Memory:                    377.53 MB\n",
      "\tTrain Data (Original)  Memory Usage: 0.91 MB (0.2% of available memory)\n",
      "\tInferring data type of each feature based on column values. Set feature_metadata_in to manually specify special dtypes of the features.\n",
      "\tStage 1 Generators:\n",
      "\t\tFitting AsTypeFeatureGenerator...\n",
      "\tStage 2 Generators:\n",
      "\t\tFitting FillNaFeatureGenerator...\n",
      "\tStage 3 Generators:\n",
      "\t\tFitting IdentityFeatureGenerator...\n",
      "\tStage 4 Generators:\n",
      "\t\tFitting DropUniqueFeatureGenerator...\n",
      "\tTypes of features in original data (raw dtype, special dtypes):\n",
      "\t\t('float', []) : 14 | ['age', 'workclass', 'fnlwgt', 'education', 'education.num', ...]\n",
      "\tTypes of features in processed data (raw dtype, special dtypes):\n",
      "\t\t('float', []) : 14 | ['age', 'workclass', 'fnlwgt', 'education', 'education.num', ...]\n",
      "\t0.1s = Fit runtime\n",
      "\t14 features in original data used to generate 14 features in processed data.\n",
      "\tTrain Data (Processed) Memory Usage: 0.91 MB (0.2% of available memory)\n",
      "Data preprocessing and feature engineering runtime = 0.17s ...\n",
      "AutoGluon will gauge predictive performance using evaluation metric: 'roc_auc'\n",
      "\tThis metric expects predicted probabilities rather than predicted class labels, so you'll need to use predict_proba() instead of predict()\n",
      "\tTo change this, specify the eval_metric argument of fit()\n",
      "Fitting model: KNeighborsUnif_BAG_L1 ... Training model for up to 39.87s of the 59.82s of remaining time.\n",
      "\t0.8373\t = Validation roc_auc score\n",
      "\t0.13s\t = Training runtime\n",
      "\t1.28s\t = Validation runtime\n",
      "Fitting model: KNeighborsDist_BAG_L1 ... Training model for up to 38.41s of the 58.35s of remaining time.\n",
      "\t0.838\t = Validation roc_auc score\n",
      "\t0.25s\t = Training runtime\n",
      "\t1.06s\t = Validation runtime\n",
      "Fitting model: LightGBMXT_BAG_L1 ... Training model for up to 37.06s of the 57.0s of remaining time.\n",
      "Warning: Low available memory may cause OOM error if training continues\n",
      "Available Memory: 481 MB\n",
      "Estimated GBM model size: 0 MB\n",
      "Warning: Early stopped GBM model prior to optimal result to avoid OOM error. Please increase available memory to avoid subpar model quality.\n",
      "\tWarning: Exception caused LightGBMXT_BAG_L1 to fail during training... Skipping this model.\n",
      "\t\t'NoneType' object is not iterable\n",
      "Detailed Traceback:\n",
      "Traceback (most recent call last):\n",
      "  File \"c:\\users\\orrav\\anaconda3\\envs\\fast-dad\\lib\\site-packages\\autogluon\\tabular\\trainer\\abstract_trainer.py\", line 924, in _train_and_save\n",
      "    model = self._train_single(X, y, model, X_val, y_val, **model_fit_kwargs)\n",
      "  File \"c:\\users\\orrav\\anaconda3\\envs\\fast-dad\\lib\\site-packages\\autogluon\\tabular\\trainer\\abstract_trainer.py\", line 894, in _train_single\n",
      "    model.fit(X=X, y=y, **model_fit_kwargs)\n",
      "  File \"c:\\users\\orrav\\anaconda3\\envs\\fast-dad\\lib\\site-packages\\autogluon\\core\\models\\abstract\\abstract_model.py\", line 411, in fit\n",
      "    self._fit(**kwargs)\n",
      "  File \"c:\\users\\orrav\\anaconda3\\envs\\fast-dad\\lib\\site-packages\\autogluon\\core\\models\\ensemble\\stacker_ensemble_model.py\", line 142, in _fit\n",
      "    super()._fit(X=X, y=y, time_limit=time_limit, **kwargs)\n",
      "  File \"c:\\users\\orrav\\anaconda3\\envs\\fast-dad\\lib\\site-packages\\autogluon\\core\\models\\ensemble\\bagged_ensemble_model.py\", line 209, in _fit\n",
      "    fold_model.fit(X=X_fold, y=y_fold, X_val=X_val_fold, y_val=y_val_fold, time_limit=time_limit_fold, **kwargs_fold)\n",
      "  File \"c:\\users\\orrav\\anaconda3\\envs\\fast-dad\\lib\\site-packages\\autogluon\\core\\models\\abstract\\abstract_model.py\", line 411, in fit\n",
      "    self._fit(**kwargs)\n",
      "  File \"c:\\users\\orrav\\anaconda3\\envs\\fast-dad\\lib\\site-packages\\autogluon\\tabular\\models\\lgb\\lgb_model.py\", line 177, in _fit\n",
      "    self.model = lgb.train(**train_params)\n",
      "  File \"c:\\users\\orrav\\anaconda3\\envs\\fast-dad\\lib\\site-packages\\lightgbm\\engine.py\", line 264, in train\n",
      "    evaluation_result_list=evaluation_result_list))\n",
      "  File \"c:\\users\\orrav\\anaconda3\\envs\\fast-dad\\lib\\site-packages\\autogluon\\tabular\\models\\lgb\\callbacks.py\", line 214, in _callback\n",
      "    best_iter[0] + 1, '\\t'.join([_format_eval_result(x) for x in best_score_list[0]])))\n",
      "TypeError: 'NoneType' object is not iterable\n",
      "Fitting model: LightGBM_BAG_L1 ... Training model for up to 36.46s of the 56.41s of remaining time.\n",
      "Warning: Low available memory may cause OOM error if training continues\n",
      "Available Memory: 510 MB\n",
      "Estimated GBM model size: 0 MB\n",
      "Warning: Early stopped GBM model prior to optimal result to avoid OOM error. Please increase available memory to avoid subpar model quality.\n",
      "\tWarning: Exception caused LightGBM_BAG_L1 to fail during training... Skipping this model.\n",
      "\t\t'NoneType' object is not iterable\n",
      "Detailed Traceback:\n",
      "Traceback (most recent call last):\n",
      "  File \"c:\\users\\orrav\\anaconda3\\envs\\fast-dad\\lib\\site-packages\\autogluon\\tabular\\trainer\\abstract_trainer.py\", line 924, in _train_and_save\n",
      "    model = self._train_single(X, y, model, X_val, y_val, **model_fit_kwargs)\n",
      "  File \"c:\\users\\orrav\\anaconda3\\envs\\fast-dad\\lib\\site-packages\\autogluon\\tabular\\trainer\\abstract_trainer.py\", line 894, in _train_single\n",
      "    model.fit(X=X, y=y, **model_fit_kwargs)\n",
      "  File \"c:\\users\\orrav\\anaconda3\\envs\\fast-dad\\lib\\site-packages\\autogluon\\core\\models\\abstract\\abstract_model.py\", line 411, in fit\n",
      "    self._fit(**kwargs)\n",
      "  File \"c:\\users\\orrav\\anaconda3\\envs\\fast-dad\\lib\\site-packages\\autogluon\\core\\models\\ensemble\\stacker_ensemble_model.py\", line 142, in _fit\n",
      "    super()._fit(X=X, y=y, time_limit=time_limit, **kwargs)\n",
      "  File \"c:\\users\\orrav\\anaconda3\\envs\\fast-dad\\lib\\site-packages\\autogluon\\core\\models\\ensemble\\bagged_ensemble_model.py\", line 209, in _fit\n",
      "    fold_model.fit(X=X_fold, y=y_fold, X_val=X_val_fold, y_val=y_val_fold, time_limit=time_limit_fold, **kwargs_fold)\n",
      "  File \"c:\\users\\orrav\\anaconda3\\envs\\fast-dad\\lib\\site-packages\\autogluon\\core\\models\\abstract\\abstract_model.py\", line 411, in fit\n",
      "    self._fit(**kwargs)\n",
      "  File \"c:\\users\\orrav\\anaconda3\\envs\\fast-dad\\lib\\site-packages\\autogluon\\tabular\\models\\lgb\\lgb_model.py\", line 177, in _fit\n",
      "    self.model = lgb.train(**train_params)\n",
      "  File \"c:\\users\\orrav\\anaconda3\\envs\\fast-dad\\lib\\site-packages\\lightgbm\\engine.py\", line 264, in train\n",
      "    evaluation_result_list=evaluation_result_list))\n",
      "  File \"c:\\users\\orrav\\anaconda3\\envs\\fast-dad\\lib\\site-packages\\autogluon\\tabular\\models\\lgb\\callbacks.py\", line 214, in _callback\n",
      "    best_iter[0] + 1, '\\t'.join([_format_eval_result(x) for x in best_score_list[0]])))\n",
      "TypeError: 'NoneType' object is not iterable\n",
      "Fitting model: RandomForestGini_BAG_L1 ... Training model for up to 36.25s of the 56.19s of remaining time.\n",
      "\t0.9002\t = Validation roc_auc score\n",
      "\t2.2s\t = Training runtime\n",
      "\t0.78s\t = Validation runtime\n",
      "Fitting model: RandomForestEntr_BAG_L1 ... Training model for up to 32.97s of the 52.91s of remaining time.\n",
      "\t0.8996\t = Validation roc_auc score\n",
      "\t2.41s\t = Training runtime\n",
      "\t0.75s\t = Validation runtime\n",
      "Fitting model: CatBoost_BAG_L1 ... Training model for up to 29.55s of the 49.5s of remaining time.\n",
      "\tTime limit exceeded... Skipping CatBoost_BAG_L1.\n",
      "Fitting model: ExtraTreesGini_BAG_L1 ... Training model for up to 11.78s of the 31.72s of remaining time.\n",
      "\t0.8944\t = Validation roc_auc score\n",
      "\t1.73s\t = Training runtime\n",
      "\t0.35s\t = Validation runtime\n",
      "Fitting model: ExtraTreesEntr_BAG_L1 ... Training model for up to 9.41s of the 29.35s of remaining time.\n",
      "\t0.8944\t = Validation roc_auc score\n",
      "\t1.03s\t = Training runtime\n",
      "\t0.32s\t = Validation runtime\n",
      "Fitting model: NeuralNetFastAI_BAG_L1 ... Training model for up to 7.8s of the 27.74s of remaining time.\n"
     ]
    },
    {
     "name": "stderr",
     "output_type": "stream",
     "text": [
      "\tRan out of time, stopping training early.\n",
      "\tTime limit exceeded... Skipping NeuralNetFastAI_BAG_L1.\n",
      "Fitting model: XGBoost_BAG_L1 ... Training model for up to 6.74s of the 26.69s of remaining time.\n",
      "\tTime limit exceeded... Skipping XGBoost_BAG_L1.\n",
      "Fitting model: NeuralNetMXNet_BAG_L1 ... Training model for up to 6.0s of the 25.95s of remaining time.\n",
      "\tRan out of time, stopping training early. (Stopping on epoch 0)\n",
      "\tTime limit exceeded... Skipping NeuralNetMXNet_BAG_L1.\n",
      "Fitting model: LightGBMLarge_BAG_L1 ... Training model for up to 3.5s of the 23.44s of remaining time.\n",
      "\tRan out of time, early stopping on iteration 15. Best iteration is:\n",
      "\t[15]\ttrain_set's binary_logloss: 0.400781\tvalid_set's binary_logloss: 0.433522\n",
      "\tRan out of time, early stopping on iteration 13. Best iteration is:\n",
      "\t[13]\ttrain_set's binary_logloss: 0.414439\tvalid_set's binary_logloss: 0.451489\n",
      "\tRan out of time, early stopping on iteration 13. Best iteration is:\n",
      "\t[13]\ttrain_set's binary_logloss: 0.416946\tvalid_set's binary_logloss: 0.435378\n",
      "\tRan out of time, early stopping on iteration 8. Best iteration is:\n",
      "\t[8]\ttrain_set's binary_logloss: 0.457542\tvalid_set's binary_logloss: 0.477377\n",
      "\tRan out of time, early stopping on iteration 13. Best iteration is:\n",
      "\t[13]\ttrain_set's binary_logloss: 0.415727\tvalid_set's binary_logloss: 0.444199\n",
      "\tRan out of time, early stopping on iteration 13. Best iteration is:\n",
      "\t[13]\ttrain_set's binary_logloss: 0.415241\tvalid_set's binary_logloss: 0.448286\n",
      "\tRan out of time, early stopping on iteration 14. Best iteration is:\n",
      "\t[14]\ttrain_set's binary_logloss: 0.406712\tvalid_set's binary_logloss: 0.442863\n",
      "\tRan out of time, early stopping on iteration 9. Best iteration is:\n",
      "\t[9]\ttrain_set's binary_logloss: 0.448858\tvalid_set's binary_logloss: 0.465877\n",
      "\tRan out of time, early stopping on iteration 16. Best iteration is:\n",
      "\t[16]\ttrain_set's binary_logloss: 0.393288\tvalid_set's binary_logloss: 0.422192\n",
      "\tRan out of time, early stopping on iteration 17. Best iteration is:\n",
      "\t[17]\ttrain_set's binary_logloss: 0.387174\tvalid_set's binary_logloss: 0.419827\n",
      "\t0.8946\t = Validation roc_auc score\n",
      "\t3.22s\t = Training runtime\n",
      "\t0.07s\t = Validation runtime\n",
      "Completed 1/20 k-fold bagging repeats ...\n",
      "Fitting model: WeightedEnsemble_L2 ... Training model for up to 59.83s of the 19.92s of remaining time.\n",
      "\t0.9044\t = Validation roc_auc score\n",
      "\t3.37s\t = Training runtime\n",
      "\t0.0s\t = Validation runtime\n",
      "Fitting model: KNeighborsUnif_BAG_L2 ... Training model for up to 16.52s of the 16.51s of remaining time.\n",
      "\t0.8512\t = Validation roc_auc score\n",
      "\t0.0s\t = Training runtime\n",
      "\t2.72s\t = Validation runtime\n",
      "Fitting model: KNeighborsDist_BAG_L2 ... Training model for up to 13.77s of the 13.76s of remaining time.\n",
      "\t0.8588\t = Validation roc_auc score\n",
      "\t0.01s\t = Training runtime\n",
      "\t3.9s\t = Validation runtime\n",
      "Fitting model: LightGBMXT_BAG_L2 ... Training model for up to 9.83s of the 9.82s of remaining time.\n",
      "\tRan out of time, early stopping on iteration 255. Best iteration is:\n",
      "\t[217]\ttrain_set's binary_logloss: 0.23008\tvalid_set's binary_logloss: 0.295697\n",
      "\tRan out of time, early stopping on iteration 433. Best iteration is:\n",
      "\t[427]\ttrain_set's binary_logloss: 0.179362\tvalid_set's binary_logloss: 0.288806\n",
      "\tRan out of time, early stopping on iteration 396. Best iteration is:\n",
      "\t[396]\ttrain_set's binary_logloss: 0.184466\tvalid_set's binary_logloss: 0.298141\n",
      "\tRan out of time, early stopping on iteration 268. Best iteration is:\n",
      "\t[138]\ttrain_set's binary_logloss: 0.257061\tvalid_set's binary_logloss: 0.285743\n",
      "\tRan out of time, early stopping on iteration 210. Best iteration is:\n",
      "\t[208]\ttrain_set's binary_logloss: 0.231491\tvalid_set's binary_logloss: 0.307303\n",
      "\tRan out of time, early stopping on iteration 209. Best iteration is:\n",
      "\t[84]\ttrain_set's binary_logloss: 0.279268\tvalid_set's binary_logloss: 0.330329\n",
      "\tRan out of time, early stopping on iteration 209. Best iteration is:\n",
      "\t[125]\ttrain_set's binary_logloss: 0.259214\tvalid_set's binary_logloss: 0.327429\n",
      "\tRan out of time, early stopping on iteration 216. Best iteration is:\n",
      "\t[191]\ttrain_set's binary_logloss: 0.236407\tvalid_set's binary_logloss: 0.325688\n",
      "\tRan out of time, early stopping on iteration 293. Best iteration is:\n",
      "\t[256]\ttrain_set's binary_logloss: 0.216678\tvalid_set's binary_logloss: 0.318882\n",
      "\t0.9129\t = Validation roc_auc score\n",
      "\t9.23s\t = Training runtime\n",
      "\t0.12s\t = Validation runtime\n",
      "Fitting model: LightGBM_BAG_L2 ... Training model for up to 0.13s of the 0.13s of remaining time.\n",
      "\tRan out of time, early stopping on iteration 1. Best iteration is:\n",
      "\t[1]\ttrain_set's binary_logloss: 0.537266\tvalid_set's binary_logloss: 0.536654\n",
      "\tTime limit exceeded... Skipping LightGBM_BAG_L2.\n",
      "Completed 1/20 k-fold bagging repeats ...\n",
      "Fitting model: WeightedEnsemble_L3 ... Training model for up to 59.83s of the -0.12s of remaining time.\n",
      "\t0.9133\t = Validation roc_auc score\n",
      "\t2.03s\t = Training runtime\n",
      "\t0.01s\t = Validation runtime\n",
      "AutoGluon training complete, total runtime = 62.22s ...\n",
      "TabularPredictor saved. To load, use: predictor = TabularPredictor.load(\"AutogluonModels/ag-20210730_160822\\\")\n"
     ]
    }
   ],
   "source": [
    "alpha = 0.1\n",
    "bb = TabularAutoML(label=label, metric='roc_auc')\n",
    "method_sc = SplitConformal(pX_train, y_train.reset_index(drop=True), bb, alpha)"
   ]
  },
  {
   "cell_type": "code",
   "execution_count": null,
   "metadata": {},
   "outputs": [],
   "source": [
    "#proc_gibbs_df_sc = filter_by_prediction_sets(method_sc, proc_gibbs_df, label)\n",
    "cond_df_sc = filter_by_prediction_sets(method_sc, df_aug_cond_teacher_preds, label)"
   ]
  },
  {
   "cell_type": "code",
   "execution_count": 124,
   "metadata": {},
   "outputs": [
    {
     "data": {
      "text/html": [
       "<div>\n",
       "<style scoped>\n",
       "    .dataframe tbody tr th:only-of-type {\n",
       "        vertical-align: middle;\n",
       "    }\n",
       "\n",
       "    .dataframe tbody tr th {\n",
       "        vertical-align: top;\n",
       "    }\n",
       "\n",
       "    .dataframe thead th {\n",
       "        text-align: right;\n",
       "    }\n",
       "</style>\n",
       "<table border=\"1\" class=\"dataframe\">\n",
       "  <thead>\n",
       "    <tr style=\"text-align: right;\">\n",
       "      <th></th>\n",
       "      <th>age</th>\n",
       "      <th>workclass</th>\n",
       "      <th>fnlwgt</th>\n",
       "      <th>education</th>\n",
       "      <th>education.num</th>\n",
       "      <th>marital.status</th>\n",
       "      <th>occupation</th>\n",
       "      <th>relationship</th>\n",
       "      <th>race</th>\n",
       "      <th>sex</th>\n",
       "      <th>capital.gain</th>\n",
       "      <th>capital.loss</th>\n",
       "      <th>hours.per.week</th>\n",
       "      <th>native.country</th>\n",
       "      <th>income</th>\n",
       "    </tr>\n",
       "  </thead>\n",
       "  <tbody>\n",
       "    <tr>\n",
       "      <th>0</th>\n",
       "      <td>-1.393038</td>\n",
       "      <td>-1.280497</td>\n",
       "      <td>-0.137932</td>\n",
       "      <td>1.117281</td>\n",
       "      <td>-0.223988</td>\n",
       "      <td>1.156108</td>\n",
       "      <td>0.855864</td>\n",
       "      <td>0.751198</td>\n",
       "      <td>0.399164</td>\n",
       "      <td>0.0</td>\n",
       "      <td>-0.144256</td>\n",
       "      <td>-0.217062</td>\n",
       "      <td>-2.045828</td>\n",
       "      <td>0.263627</td>\n",
       "      <td>0.000729</td>\n",
       "    </tr>\n",
       "    <tr>\n",
       "      <th>1</th>\n",
       "      <td>0.357224</td>\n",
       "      <td>2.392699</td>\n",
       "      <td>-1.276351</td>\n",
       "      <td>0.332852</td>\n",
       "      <td>1.805464</td>\n",
       "      <td>-0.662564</td>\n",
       "      <td>0.855864</td>\n",
       "      <td>-0.651992</td>\n",
       "      <td>0.399164</td>\n",
       "      <td>0.0</td>\n",
       "      <td>0.870768</td>\n",
       "      <td>-0.217062</td>\n",
       "      <td>-0.019171</td>\n",
       "      <td>0.263627</td>\n",
       "      <td>0.987352</td>\n",
       "    </tr>\n",
       "    <tr>\n",
       "      <th>2</th>\n",
       "      <td>-1.393038</td>\n",
       "      <td>0.556101</td>\n",
       "      <td>2.327533</td>\n",
       "      <td>0.332852</td>\n",
       "      <td>-0.223988</td>\n",
       "      <td>1.156108</td>\n",
       "      <td>0.361550</td>\n",
       "      <td>0.751198</td>\n",
       "      <td>0.399164</td>\n",
       "      <td>0.0</td>\n",
       "      <td>-0.144256</td>\n",
       "      <td>-0.217062</td>\n",
       "      <td>-0.019171</td>\n",
       "      <td>-1.999662</td>\n",
       "      <td>0.000985</td>\n",
       "    </tr>\n",
       "    <tr>\n",
       "      <th>3</th>\n",
       "      <td>2.253342</td>\n",
       "      <td>2.392699</td>\n",
       "      <td>0.451610</td>\n",
       "      <td>-1.497481</td>\n",
       "      <td>-2.659329</td>\n",
       "      <td>1.762332</td>\n",
       "      <td>0.361550</td>\n",
       "      <td>0.751198</td>\n",
       "      <td>0.399164</td>\n",
       "      <td>0.0</td>\n",
       "      <td>0.181892</td>\n",
       "      <td>-0.217062</td>\n",
       "      <td>-0.019171</td>\n",
       "      <td>0.263627</td>\n",
       "      <td>0.002028</td>\n",
       "    </tr>\n",
       "    <tr>\n",
       "      <th>4</th>\n",
       "      <td>-0.590835</td>\n",
       "      <td>-0.362198</td>\n",
       "      <td>0.204454</td>\n",
       "      <td>0.332852</td>\n",
       "      <td>-0.223988</td>\n",
       "      <td>1.156108</td>\n",
       "      <td>-0.379920</td>\n",
       "      <td>1.452792</td>\n",
       "      <td>0.399164</td>\n",
       "      <td>0.0</td>\n",
       "      <td>-0.144256</td>\n",
       "      <td>-0.217062</td>\n",
       "      <td>-0.019171</td>\n",
       "      <td>0.263627</td>\n",
       "      <td>0.007653</td>\n",
       "    </tr>\n",
       "  </tbody>\n",
       "</table>\n",
       "</div>"
      ],
      "text/plain": [
       "        age  workclass    fnlwgt  education  education.num  marital.status  \\\n",
       "0 -1.393038  -1.280497 -0.137932   1.117281      -0.223988        1.156108   \n",
       "1  0.357224   2.392699 -1.276351   0.332852       1.805464       -0.662564   \n",
       "2 -1.393038   0.556101  2.327533   0.332852      -0.223988        1.156108   \n",
       "3  2.253342   2.392699  0.451610  -1.497481      -2.659329        1.762332   \n",
       "4 -0.590835  -0.362198  0.204454   0.332852      -0.223988        1.156108   \n",
       "\n",
       "   occupation  relationship      race  sex  capital.gain  capital.loss  \\\n",
       "0    0.855864      0.751198  0.399164  0.0     -0.144256     -0.217062   \n",
       "1    0.855864     -0.651992  0.399164  0.0      0.870768     -0.217062   \n",
       "2    0.361550      0.751198  0.399164  0.0     -0.144256     -0.217062   \n",
       "3    0.361550      0.751198  0.399164  0.0      0.181892     -0.217062   \n",
       "4   -0.379920      1.452792  0.399164  0.0     -0.144256     -0.217062   \n",
       "\n",
       "   hours.per.week  native.country    income  \n",
       "0       -2.045828        0.263627  0.000729  \n",
       "1       -0.019171        0.263627  0.987352  \n",
       "2       -0.019171       -1.999662  0.000985  \n",
       "3       -0.019171        0.263627  0.002028  \n",
       "4       -0.019171        0.263627  0.007653  "
      ]
     },
     "execution_count": 124,
     "metadata": {},
     "output_type": "execute_result"
    }
   ],
   "source": [
    "cond_df_sc.head()"
   ]
  },
  {
   "cell_type": "code",
   "execution_count": 113,
   "metadata": {},
   "outputs": [
    {
     "data": {
      "text/html": [
       "<div>\n",
       "<style scoped>\n",
       "    .dataframe tbody tr th:only-of-type {\n",
       "        vertical-align: middle;\n",
       "    }\n",
       "\n",
       "    .dataframe tbody tr th {\n",
       "        vertical-align: top;\n",
       "    }\n",
       "\n",
       "    .dataframe thead th {\n",
       "        text-align: right;\n",
       "    }\n",
       "</style>\n",
       "<table border=\"1\" class=\"dataframe\">\n",
       "  <thead>\n",
       "    <tr style=\"text-align: right;\">\n",
       "      <th></th>\n",
       "      <th>age</th>\n",
       "      <th>workclass</th>\n",
       "      <th>fnlwgt</th>\n",
       "      <th>education</th>\n",
       "      <th>education.num</th>\n",
       "      <th>marital.status</th>\n",
       "      <th>occupation</th>\n",
       "      <th>relationship</th>\n",
       "      <th>race</th>\n",
       "      <th>sex</th>\n",
       "      <th>capital.gain</th>\n",
       "      <th>capital.loss</th>\n",
       "      <th>hours.per.week</th>\n",
       "      <th>native.country</th>\n",
       "      <th>income</th>\n",
       "    </tr>\n",
       "  </thead>\n",
       "  <tbody>\n",
       "    <tr>\n",
       "      <th>0</th>\n",
       "      <td>-1.259718</td>\n",
       "      <td>0.056478</td>\n",
       "      <td>-1.480375</td>\n",
       "      <td>1.325252</td>\n",
       "      <td>-0.080571</td>\n",
       "      <td>0.878635</td>\n",
       "      <td>1.349306</td>\n",
       "      <td>-0.425635</td>\n",
       "      <td>0.409176</td>\n",
       "      <td>0.0</td>\n",
       "      <td>-0.144238</td>\n",
       "      <td>-0.217057</td>\n",
       "      <td>-0.020654</td>\n",
       "      <td>0.263247</td>\n",
       "      <td>0</td>\n",
       "    </tr>\n",
       "    <tr>\n",
       "      <th>1</th>\n",
       "      <td>1.396140</td>\n",
       "      <td>0.056478</td>\n",
       "      <td>0.260226</td>\n",
       "      <td>0.125068</td>\n",
       "      <td>-0.509510</td>\n",
       "      <td>-0.762882</td>\n",
       "      <td>-0.568541</td>\n",
       "      <td>-0.425635</td>\n",
       "      <td>-2.487711</td>\n",
       "      <td>0.0</td>\n",
       "      <td>-0.144238</td>\n",
       "      <td>-0.217057</td>\n",
       "      <td>-0.908772</td>\n",
       "      <td>0.263247</td>\n",
       "      <td>0</td>\n",
       "    </tr>\n",
       "    <tr>\n",
       "      <th>2</th>\n",
       "      <td>1.072255</td>\n",
       "      <td>2.126398</td>\n",
       "      <td>-0.883462</td>\n",
       "      <td>0.125068</td>\n",
       "      <td>-0.509510</td>\n",
       "      <td>0.878635</td>\n",
       "      <td>-1.207823</td>\n",
       "      <td>-0.425635</td>\n",
       "      <td>0.409176</td>\n",
       "      <td>0.0</td>\n",
       "      <td>-0.144238</td>\n",
       "      <td>-0.217057</td>\n",
       "      <td>-0.464713</td>\n",
       "      <td>0.263247</td>\n",
       "      <td>0</td>\n",
       "    </tr>\n",
       "    <tr>\n",
       "      <th>3</th>\n",
       "      <td>-0.093732</td>\n",
       "      <td>0.056478</td>\n",
       "      <td>1.364832</td>\n",
       "      <td>0.125068</td>\n",
       "      <td>-0.509510</td>\n",
       "      <td>0.878635</td>\n",
       "      <td>-1.207823</td>\n",
       "      <td>-0.425635</td>\n",
       "      <td>0.409176</td>\n",
       "      <td>0.0</td>\n",
       "      <td>-0.144238</td>\n",
       "      <td>-0.217057</td>\n",
       "      <td>0.068158</td>\n",
       "      <td>0.263247</td>\n",
       "      <td>0</td>\n",
       "    </tr>\n",
       "    <tr>\n",
       "      <th>4</th>\n",
       "      <td>2.562127</td>\n",
       "      <td>-2.013443</td>\n",
       "      <td>-0.883830</td>\n",
       "      <td>1.325252</td>\n",
       "      <td>-0.080571</td>\n",
       "      <td>2.520152</td>\n",
       "      <td>0.710023</td>\n",
       "      <td>-0.425635</td>\n",
       "      <td>0.409176</td>\n",
       "      <td>0.0</td>\n",
       "      <td>-0.144238</td>\n",
       "      <td>-0.217057</td>\n",
       "      <td>-3.040257</td>\n",
       "      <td>0.263247</td>\n",
       "      <td>0</td>\n",
       "    </tr>\n",
       "  </tbody>\n",
       "</table>\n",
       "</div>"
      ],
      "text/plain": [
       "        age  workclass    fnlwgt  education  education.num  marital.status  \\\n",
       "0 -1.259718   0.056478 -1.480375   1.325252      -0.080571        0.878635   \n",
       "1  1.396140   0.056478  0.260226   0.125068      -0.509510       -0.762882   \n",
       "2  1.072255   2.126398 -0.883462   0.125068      -0.509510        0.878635   \n",
       "3 -0.093732   0.056478  1.364832   0.125068      -0.509510        0.878635   \n",
       "4  2.562127  -2.013443 -0.883830   1.325252      -0.080571        2.520152   \n",
       "\n",
       "   occupation  relationship      race  sex  capital.gain  capital.loss  \\\n",
       "0    1.349306     -0.425635  0.409176  0.0     -0.144238     -0.217057   \n",
       "1   -0.568541     -0.425635 -2.487711  0.0     -0.144238     -0.217057   \n",
       "2   -1.207823     -0.425635  0.409176  0.0     -0.144238     -0.217057   \n",
       "3   -1.207823     -0.425635  0.409176  0.0     -0.144238     -0.217057   \n",
       "4    0.710023     -0.425635  0.409176  0.0     -0.144238     -0.217057   \n",
       "\n",
       "   hours.per.week  native.country  income  \n",
       "0       -0.020654        0.263247       0  \n",
       "1       -0.908772        0.263247       0  \n",
       "2       -0.464713        0.263247       0  \n",
       "3        0.068158        0.263247       0  \n",
       "4       -3.040257        0.263247       0  "
      ]
     },
     "execution_count": 113,
     "metadata": {},
     "output_type": "execute_result"
    }
   ],
   "source": [
    "df_aug_sc = pd.concat([cond_df_sc, df_train])\n",
    "df_aug_sc.head()"
   ]
  },
  {
   "cell_type": "code",
   "execution_count": 125,
   "metadata": {},
   "outputs": [],
   "source": [
    "X_aug_sc = df_aug_sc.drop([label], axis=1)\n",
    "y_aug_sc = df_aug_sc[label]"
   ]
  },
  {
   "cell_type": "code",
   "execution_count": 126,
   "metadata": {},
   "outputs": [
    {
     "data": {
      "text/plain": [
       "RandomForestRegressor(random_state=0)"
      ]
     },
     "execution_count": 126,
     "metadata": {},
     "output_type": "execute_result"
    }
   ],
   "source": [
    "clf = RandomForestRegressor(random_state=0)\n",
    "clf.fit(X_aug_sc, y_aug_sc)"
   ]
  },
  {
   "cell_type": "code",
   "execution_count": 127,
   "metadata": {},
   "outputs": [],
   "source": [
    "test_probas = clf.predict(pX_test)\n",
    "test_preds = np.round(test_probas)"
   ]
  },
  {
   "cell_type": "code",
   "execution_count": 128,
   "metadata": {},
   "outputs": [
    {
     "data": {
      "text/plain": [
       "0.7836326790677405"
      ]
     },
     "execution_count": 128,
     "metadata": {},
     "output_type": "execute_result"
    }
   ],
   "source": [
    "f1_score(y_test, test_preds, average='macro')"
   ]
  },
  {
   "cell_type": "code",
   "execution_count": 129,
   "metadata": {},
   "outputs": [
    {
     "data": {
      "text/plain": [
       "0.8947675756912254"
      ]
     },
     "execution_count": 129,
     "metadata": {},
     "output_type": "execute_result"
    }
   ],
   "source": [
    "roc_auc_score(y_test, test_probas)"
   ]
  }
 ],
 "metadata": {
  "colab": {
   "authorship_tag": "ABX9TyP3m8Pu0NMNiNkpNfmY7d83",
   "mount_file_id": "1Gjc7Vg_2YfUKTW58vXv9RkpXWHlrcMct",
   "name": "adults-income.ipynb",
   "toc_visible": true,
   "version": ""
  },
  "kernelspec": {
   "display_name": "Python 3",
   "language": "python",
   "name": "python3"
  },
  "language_info": {
   "codemirror_mode": {
    "name": "ipython",
    "version": 3
   },
   "file_extension": ".py",
   "mimetype": "text/x-python",
   "name": "python",
   "nbconvert_exporter": "python",
   "pygments_lexer": "ipython3",
   "version": "3.6.13"
  }
 },
 "nbformat": 4,
 "nbformat_minor": 1
}
